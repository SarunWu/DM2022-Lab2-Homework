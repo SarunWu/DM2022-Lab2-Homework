{
 "cells": [
  {
   "cell_type": "markdown",
   "metadata": {
    "pycharm": {
     "name": "#%% md\n"
    }
   },
   "source": [
    "### Student Information\n",
    "Name: Sarunyu Srisonthong\n",
    "\n",
    "Student ID: 110062428\n",
    "\n",
    "GitHub ID: SarunWu\n",
    "\n",
    "Kaggle name: Daxiiez\n",
    "\n",
    "Kaggle private scoreboard snapshot:\n",
    "\n",
    "![score_board](./img/best.png)"
   ]
  },
  {
   "cell_type": "markdown",
   "metadata": {
    "pycharm": {
     "name": "#%% md\n"
    }
   },
   "source": [
    "---"
   ]
  },
  {
   "cell_type": "markdown",
   "metadata": {
    "pycharm": {
     "name": "#%% md\n"
    }
   },
   "source": [
    "### Instructions"
   ]
  },
  {
   "cell_type": "markdown",
   "metadata": {
    "pycharm": {
     "name": "#%% md\n"
    }
   },
   "source": [
    "1. First: __This part is worth 30% of your grade.__ Do the **take home** exercises in the [DM2022-Lab2-master Repo](https://github.com/keziatamus/DM2022-Lab2-Master). You may need to copy some cells from the Lab notebook to this notebook. \n",
    "\n",
    "\n",
    "2. Second: __This part is worth 30% of your grade.__ Participate in the in-class [Kaggle Competition](https://www.kaggle.com/competitions/dm2022-isa5810-lab2-homework) regarding Emotion Recognition on Twitter by this link https://www.kaggle.com/t/2b0d14a829f340bc88d2660dc602d4bd. The scoring will be given according to your place in the Private Leaderboard ranking: \n",
    "    - **Bottom 40%**: Get 20% of the 30% available for this section.\n",
    "\n",
    "    - **Top 41% - 100%**: Get (60-x)/6 + 20 points, where x is your ranking in the leaderboard (ie. If you rank 3rd your score will be (60-3)/6 + 20 = 29.5% out of 30%)   \n",
    "    Submit your last submission __BEFORE the deadline (Nov. 22th 11:59 pm, Tuesday)_. Make sure to take a screenshot of your position at the end of the competition and store it as '''pic0.png''' under the **img** folder of this repository and rerun the cell **Student Information**.\n",
    "    \n",
    "\n",
    "3. Third: __This part is worth 30% of your grade.__ A report of your work developping the model for the competition (You can use code and comment it). This report should include what your preprocessing steps, the feature engineering steps and an explanation of your model. You can also mention different things you tried and insights you gained. \n",
    "\n",
    "\n",
    "4. Fourth: __This part is worth 10% of your grade.__ It's hard for us to follow if your code is messy :'(, so please **tidy up your notebook** and **add minimal comments where needed**.\n",
    "\n",
    "\n",
    "Upload your files to your repository then submit the link to it on the corresponding e-learn assignment.\n",
    "\n",
    "Make sure to commit and save your changes to your repository __BEFORE the deadline (Nov. 25th 11:59 pm, Friday)__. "
   ]
  },
  {
   "cell_type": "markdown",
   "metadata": {
    "collapsed": false,
    "pycharm": {
     "name": "#%% md\n"
    }
   },
   "source": [
    "### Outline\n",
    "- [Exercise 1 - Plot Word Frequency](#exercise-1)\n",
    "    - [1.1. Load Data](#11-Load-Data)\n",
    "    - [1.2 Step to build the vector](#12-step-to-build-the-counter-vector)\n",
    "- [Exercise 2 - TF-IDF Features](#exercise-2)\n",
    "- [Exercise 3 - Confusion Matrix Explanation](#exercise-3)\n",
    "- [Exercise 4 - Build Naive Bayes Model](#exercise-4)\n",
    "- [Exercise 5 - Naive Bayes and Decision Tree Comparison](#exercise-5)\n",
    "- [Exercise 6 - Accuracy and Loss Ploting](#exercise-6)\n",
    "- [Exercise 7 - Build neural network model based on embeddings input](#exercise-7)\n",
    "- [Exercise 8 - T-SNE Visualization](#exercise-8)"
   ]
  },
  {
   "cell_type": "markdown",
   "metadata": {
    "collapsed": false,
    "pycharm": {
     "name": "#%% md\n"
    }
   },
   "source": []
  },
  {
   "cell_type": "markdown",
   "metadata": {
    "collapsed": false,
    "pycharm": {
     "name": "#%% md\n"
    }
   },
   "source": [
    "#### Exercise 1"
   ]
  },
  {
   "cell_type": "markdown",
   "metadata": {
    "collapsed": false,
    "pycharm": {
     "name": "#%% md\n"
    }
   },
   "source": [
    "##### 1.1 Load Data"
   ]
  },
  {
   "cell_type": "code",
   "execution_count": 16,
   "metadata": {
    "collapsed": false,
    "pycharm": {
     "name": "#%%\n"
    }
   },
   "outputs": [
    {
     "data": {
      "text/plain": [
       "'1.1.1'"
      ]
     },
     "execution_count": 16,
     "metadata": {},
     "output_type": "execute_result"
    }
   ],
   "source": [
    "%matplotlib inline\n",
    "import sklearn\n",
    "sklearn.__version__"
   ]
  },
  {
   "cell_type": "code",
   "execution_count": 17,
   "metadata": {
    "collapsed": false,
    "pycharm": {
     "name": "#%%\n"
    }
   },
   "outputs": [],
   "source": [
    "import pandas as pd\n",
    "\n",
    "# training data\n",
    "anger_train = pd.read_csv(\"data/semeval/train/anger-ratings-0to1.train.txt\",\n",
    "                          sep=\"\\t\", header=None, names=[\"id\", \"text\", \"emotion\", \"intensity\"])\n",
    "sadness_train = pd.read_csv(\"data/semeval/train/sadness-ratings-0to1.train.txt\",\n",
    "                            sep=\"\\t\", header=None, names=[\"id\", \"text\", \"emotion\", \"intensity\"])\n",
    "fear_train = pd.read_csv(\"data/semeval/train/fear-ratings-0to1.train.txt\",\n",
    "                         sep=\"\\t\", header=None, names=[\"id\", \"text\", \"emotion\", \"intensity\"])\n",
    "joy_train = pd.read_csv(\"data/semeval/train/joy-ratings-0to1.train.txt\",\n",
    "                        sep=\"\\t\", header=None, names=[\"id\", \"text\", \"emotion\", \"intensity\"])"
   ]
  },
  {
   "cell_type": "code",
   "execution_count": 18,
   "metadata": {
    "collapsed": false,
    "pycharm": {
     "name": "#%%\n"
    }
   },
   "outputs": [],
   "source": [
    "# combine 4 sub-dataset\n",
    "train_df = pd.concat([anger_train, fear_train, joy_train, sadness_train], ignore_index=True)"
   ]
  },
  {
   "cell_type": "code",
   "execution_count": 19,
   "metadata": {
    "collapsed": false,
    "pycharm": {
     "name": "#%%\n"
    }
   },
   "outputs": [
    {
     "data": {
      "text/html": [
       "<div>\n",
       "<style scoped>\n",
       "    .dataframe tbody tr th:only-of-type {\n",
       "        vertical-align: middle;\n",
       "    }\n",
       "\n",
       "    .dataframe tbody tr th {\n",
       "        vertical-align: top;\n",
       "    }\n",
       "\n",
       "    .dataframe thead th {\n",
       "        text-align: right;\n",
       "    }\n",
       "</style>\n",
       "<table border=\"1\" class=\"dataframe\">\n",
       "  <thead>\n",
       "    <tr style=\"text-align: right;\">\n",
       "      <th></th>\n",
       "      <th>id</th>\n",
       "      <th>text</th>\n",
       "      <th>emotion</th>\n",
       "      <th>intensity</th>\n",
       "    </tr>\n",
       "  </thead>\n",
       "  <tbody>\n",
       "    <tr>\n",
       "      <th>0</th>\n",
       "      <td>10000</td>\n",
       "      <td>How the fu*k! Who the heck! moved my fridge!.....</td>\n",
       "      <td>anger</td>\n",
       "      <td>0.938</td>\n",
       "    </tr>\n",
       "    <tr>\n",
       "      <th>1</th>\n",
       "      <td>10001</td>\n",
       "      <td>So my Indian Uber driver just called someone t...</td>\n",
       "      <td>anger</td>\n",
       "      <td>0.896</td>\n",
       "    </tr>\n",
       "    <tr>\n",
       "      <th>2</th>\n",
       "      <td>10002</td>\n",
       "      <td>@DPD_UK I asked for my parcel to be delivered ...</td>\n",
       "      <td>anger</td>\n",
       "      <td>0.896</td>\n",
       "    </tr>\n",
       "    <tr>\n",
       "      <th>3</th>\n",
       "      <td>10003</td>\n",
       "      <td>so ef whichever butt wipe pulled the fire alar...</td>\n",
       "      <td>anger</td>\n",
       "      <td>0.896</td>\n",
       "    </tr>\n",
       "    <tr>\n",
       "      <th>4</th>\n",
       "      <td>10004</td>\n",
       "      <td>Don't join @BTCare they put the phone down on ...</td>\n",
       "      <td>anger</td>\n",
       "      <td>0.896</td>\n",
       "    </tr>\n",
       "  </tbody>\n",
       "</table>\n",
       "</div>"
      ],
      "text/plain": [
       "      id                                               text emotion  intensity\n",
       "0  10000  How the fu*k! Who the heck! moved my fridge!.....   anger      0.938\n",
       "1  10001  So my Indian Uber driver just called someone t...   anger      0.896\n",
       "2  10002  @DPD_UK I asked for my parcel to be delivered ...   anger      0.896\n",
       "3  10003  so ef whichever butt wipe pulled the fire alar...   anger      0.896\n",
       "4  10004  Don't join @BTCare they put the phone down on ...   anger      0.896"
      ]
     },
     "execution_count": 19,
     "metadata": {},
     "output_type": "execute_result"
    }
   ],
   "source": [
    "### testing data\n",
    "anger_test = pd.read_csv(\"data/semeval/dev/anger-ratings-0to1.dev.gold.txt\",\n",
    "                         sep=\"\\t\", header=None, names=[\"id\", \"text\", \"emotion\", \"intensity\"])\n",
    "sadness_test = pd.read_csv(\"data/semeval/dev/sadness-ratings-0to1.dev.gold.txt\",\n",
    "                           sep=\"\\t\", header=None, names=[\"id\", \"text\", \"emotion\", \"intensity\"])\n",
    "fear_test = pd.read_csv(\"data/semeval/dev/fear-ratings-0to1.dev.gold.txt\",\n",
    "                        sep=\"\\t\", header=None, names=[\"id\", \"text\", \"emotion\", \"intensity\"])\n",
    "joy_test = pd.read_csv(\"data/semeval/dev/joy-ratings-0to1.dev.gold.txt\",\n",
    "                       sep=\"\\t\", header=None, names=[\"id\", \"text\", \"emotion\", \"intensity\"])\n",
    "\n",
    "# combine 4 sub-dataset\n",
    "test_df = pd.concat([anger_test, fear_test, joy_test, sadness_test], ignore_index=True)\n",
    "train_df.head()"
   ]
  },
  {
   "cell_type": "code",
   "execution_count": 20,
   "metadata": {
    "collapsed": false,
    "pycharm": {
     "name": "#%%\n"
    }
   },
   "outputs": [],
   "source": [
    "# shuffle dataset\n",
    "train_df = train_df.sample(frac=1)\n",
    "test_df = test_df.sample(frac=1)"
   ]
  },
  {
   "cell_type": "code",
   "execution_count": 21,
   "metadata": {
    "collapsed": false,
    "pycharm": {
     "name": "#%%\n"
    }
   },
   "outputs": [
    {
     "name": "stdout",
     "output_type": "stream",
     "text": [
      "Shape of Training df:  (3613, 4)\n",
      "Shape of Testing df:  (347, 4)\n"
     ]
    }
   ],
   "source": [
    "print(\"Shape of Training df: \", train_df.shape)\n",
    "print(\"Shape of Testing df: \", test_df.shape)"
   ]
  },
  {
   "cell_type": "markdown",
   "metadata": {
    "collapsed": false,
    "pycharm": {
     "name": "#%% md\n"
    }
   },
   "source": [
    "#### 1.2 Step to build the counter vector\n",
    "1. declare vectorizer with maximum features number\n",
    "2. fit target data into the declared vectorizer\n",
    "3. count frequency\n",
    "4. sort the word by frequency\n",
    "5. do for both train and test data"
   ]
  },
  {
   "cell_type": "code",
   "execution_count": 22,
   "metadata": {
    "collapsed": false,
    "pycharm": {
     "name": "#%%\n"
    }
   },
   "outputs": [],
   "source": [
    "from sklearn.feature_extraction.text import CountVectorizer\n",
    "import copy\n",
    "import numpy as np\n",
    "import seaborn as sns\n",
    "import matplotlib.colors as mcolors"
   ]
  },
  {
   "cell_type": "markdown",
   "metadata": {
    "collapsed": false,
    "pycharm": {
     "name": "#%% md\n"
    }
   },
   "source": [
    "#### Train data word frequency"
   ]
  },
  {
   "cell_type": "code",
   "execution_count": 23,
   "metadata": {
    "collapsed": false,
    "pycharm": {
     "name": "#%%\n"
    }
   },
   "outputs": [
    {
     "data": {
      "text/plain": [
       "[Text(0, 0, 'the'),\n",
       " Text(1, 0, 'to'),\n",
       " Text(2, 0, 'and'),\n",
       " Text(3, 0, 'you'),\n",
       " Text(4, 0, 'of'),\n",
       " Text(5, 0, 'is'),\n",
       " Text(6, 0, 'it'),\n",
       " Text(7, 0, 'in'),\n",
       " Text(8, 0, 'that'),\n",
       " Text(9, 0, 'my'),\n",
       " Text(10, 0, 'for'),\n",
       " Text(11, 0, 'on'),\n",
       " Text(12, 0, 'be'),\n",
       " Text(13, 0, 'me'),\n",
       " Text(14, 0, 'this'),\n",
       " Text(15, 0, 'so'),\n",
       " Text(16, 0, 'have'),\n",
       " Text(17, 0, 'not'),\n",
       " Text(18, 0, 'just'),\n",
       " Text(19, 0, 'but'),\n",
       " Text(20, 0, 'with'),\n",
       " Text(21, 0, 'at'),\n",
       " Text(22, 0, 'can'),\n",
       " Text(23, 0, 'all'),\n",
       " Text(24, 0, 'like'),\n",
       " Text(25, 0, 'are'),\n",
       " Text(26, 0, 'your'),\n",
       " Text(27, 0, 'was'),\n",
       " Text(28, 0, 'when'),\n",
       " Text(29, 0, 'if')]"
      ]
     },
     "execution_count": 23,
     "metadata": {},
     "output_type": "execute_result"
    },
    {
     "data": {
      "image/png": "[encoded data removed]",
      "text/plain": [
       "<Figure size 640x480 with 1 Axes>"
      ]
     },
     "metadata": {},
     "output_type": "display_data"
    }
   ],
   "source": [
    "### train_data\n",
    "count_train_vect = CountVectorizer(max_features=30)\n",
    "X_train_counts = count_train_vect.fit_transform(train_df.text)\n",
    "feature_train_names = count_train_vect.get_feature_names_out()\n",
    "\n",
    "term_train_frequencies = np.asarray(X_train_counts.sum(axis=0))[0]\n",
    "word_train_df = pd.DataFrame(copy.deepcopy(count_train_vect.get_feature_names_out()))\n",
    "word_train_df.insert(len(word_train_df.columns), \"frequency\", pd.DataFrame(term_train_frequencies), True)\n",
    "word_train_df = word_train_df.sort_values(\"frequency\", ascending=False)\n",
    "word_train_df = word_train_df.rename(columns={0: \"word\"})\n",
    "\n",
    "\n",
    "g = sns.barplot(x=word_train_df.word,\n",
    "                y=word_train_df.frequency)\n",
    "\n",
    "\n",
    "g.set_xticklabels(word_train_df.word, rotation=90)"
   ]
  },
  {
   "cell_type": "markdown",
   "metadata": {
    "collapsed": false,
    "pycharm": {
     "name": "#%% md\n"
    }
   },
   "source": [
    "#### Test data word frequency"
   ]
  },
  {
   "cell_type": "code",
   "execution_count": 24,
   "metadata": {
    "collapsed": false,
    "pycharm": {
     "name": "#%%\n"
    }
   },
   "outputs": [
    {
     "data": {
      "text/plain": [
       "[Text(0, 0, 'the'),\n",
       " Text(1, 0, 'to'),\n",
       " Text(2, 0, 'and'),\n",
       " Text(3, 0, 'it'),\n",
       " Text(4, 0, 'of'),\n",
       " Text(5, 0, 'you'),\n",
       " Text(6, 0, 'is'),\n",
       " Text(7, 0, 'in'),\n",
       " Text(8, 0, 'for'),\n",
       " Text(9, 0, 'that'),\n",
       " Text(10, 0, 'my'),\n",
       " Text(11, 0, 'on'),\n",
       " Text(12, 0, 'be'),\n",
       " Text(13, 0, 'me'),\n",
       " Text(14, 0, 'so'),\n",
       " Text(15, 0, 'was'),\n",
       " Text(16, 0, 'can'),\n",
       " Text(17, 0, 'all'),\n",
       " Text(18, 0, 'have'),\n",
       " Text(19, 0, 'at'),\n",
       " Text(20, 0, 'just'),\n",
       " Text(21, 0, 'with'),\n",
       " Text(22, 0, 'are'),\n",
       " Text(23, 0, 'get'),\n",
       " Text(24, 0, 'but'),\n",
       " Text(25, 0, 'not'),\n",
       " Text(26, 0, 'like'),\n",
       " Text(27, 0, 'this'),\n",
       " Text(28, 0, 'up'),\n",
       " Text(29, 0, 'your')]"
      ]
     },
     "execution_count": 24,
     "metadata": {},
     "output_type": "execute_result"
    },
    {
     "data": {
      "image/png": "[encoded data removed]",
      "text/plain": [
       "<Figure size 640x480 with 1 Axes>"
      ]
     },
     "metadata": {},
     "output_type": "display_data"
    }
   ],
   "source": [
    "### test_data\n",
    "count_test_vect = CountVectorizer(max_features=30)\n",
    "X_test_counts = count_test_vect.fit_transform(test_df.text)\n",
    "feature_test_names = count_test_vect.get_feature_names_out()\n",
    "\n",
    "term_test_frequencies = np.asarray(X_test_counts.sum(axis=0))[0]\n",
    "word_test_df = pd.DataFrame(copy.deepcopy(count_test_vect.get_feature_names_out()))\n",
    "word_test_df.insert(len(word_test_df.columns), \"frequency\", pd.DataFrame(term_test_frequencies), True)\n",
    "word_test_df = word_test_df.sort_values(\"frequency\", ascending=False)\n",
    "word_test_df = word_test_df.rename(columns={0: \"word\"})\n",
    "\n",
    "g = sns.barplot(x=word_test_df.word,\n",
    "                y=word_test_df.frequency)\n",
    "\n",
    "\n",
    "g.set_xticklabels(word_test_df.word, rotation=90)"
   ]
  },
  {
   "cell_type": "markdown",
   "metadata": {
    "collapsed": false,
    "pycharm": {
     "name": "#%% md\n"
    }
   },
   "source": [
    "----"
   ]
  },
  {
   "cell_type": "markdown",
   "metadata": {
    "collapsed": false,
    "pycharm": {
     "name": "#%% md\n"
    }
   },
   "source": [
    "#### Exercise 2\n",
    "Generate an embedding using the TF-IDF vectorizer instead of th BOW one with 1000 features and show the feature names for features [100:110].\n",
    "- [x] Fit the data to tfidf_vectorizer by setting max features to 1000\n",
    "- [x] Show the feature names for features from 100 to 110"
   ]
  },
  {
   "cell_type": "code",
   "execution_count": 25,
   "metadata": {
    "collapsed": false,
    "pycharm": {
     "name": "#%%\n"
    }
   },
   "outputs": [
    {
     "name": "stdout",
     "output_type": "stream",
     "text": [
      "Train shape: (3613, 1000)\n",
      "Test shape: (347, 1000)\n",
      "Feature names from 100 to 110:  ['bitter' 'black' 'blacks' 'blame' 'blessed' 'blood' 'bloody' 'blues'\n",
      " 'body' 'boiling']\n"
     ]
    }
   ],
   "source": [
    "from sklearn.feature_extraction.text import TfidfVectorizer\n",
    "\n",
    "tfidf_vectorizer = TfidfVectorizer(max_features=1000)\n",
    "X_tfidf_train = tfidf_vectorizer.fit_transform(train_df['text'])\n",
    "X_tfidf_test = tfidf_vectorizer.transform(test_df['text'])\n",
    "\n",
    "print(\"Train shape:\", X_tfidf_train.shape)\n",
    "print(\"Test shape:\", X_tfidf_test.shape)\n",
    "print(\"Feature names from 100 to 110: \", tfidf_vectorizer.get_feature_names_out()[100:110])"
   ]
  },
  {
   "cell_type": "markdown",
   "metadata": {
    "collapsed": false,
    "pycharm": {
     "name": "#%% md\n"
    }
   },
   "source": [
    "----"
   ]
  },
  {
   "cell_type": "markdown",
   "metadata": {
    "collapsed": false,
    "pycharm": {
     "name": "#%% md\n"
    }
   },
   "source": [
    "#### Exercise 3\n",
    "Confusion matrix explanation\n"
   ]
  },
  {
   "cell_type": "code",
   "execution_count": 26,
   "metadata": {
    "collapsed": false,
    "pycharm": {
     "name": "#%%\n"
    }
   },
   "outputs": [
    {
     "name": "stdout",
     "output_type": "stream",
     "text": [
      "X_train.shape:  (3613, 1000)\n",
      "y_train.shape:  (3613,)\n",
      "X_test.shape:  (347, 1000)\n",
      "y_test.shape:  (347,)\n"
     ]
    }
   ],
   "source": [
    "from sklearn.tree import DecisionTreeClassifier\n",
    "\n",
    "# for a classification problem, you need to provide both training & testing data\n",
    "X_train = tfidf_vectorizer.transform(train_df['text'])\n",
    "y_train = train_df['emotion']\n",
    "\n",
    "X_test = tfidf_vectorizer.transform(test_df['text'])\n",
    "y_test = test_df['emotion']\n",
    "\n",
    "## take a look at data dimension is a good habbit  :)\n",
    "print('X_train.shape: ', X_train.shape)\n",
    "print('y_train.shape: ', y_train.shape)\n",
    "print('X_test.shape: ', X_test.shape)\n",
    "print('y_test.shape: ', y_test.shape)"
   ]
  },
  {
   "cell_type": "code",
   "execution_count": 27,
   "metadata": {
    "collapsed": false,
    "pycharm": {
     "name": "#%%\n"
    }
   },
   "outputs": [
    {
     "name": "stdout",
     "output_type": "stream",
     "text": [
      "['joy' 'anger' 'joy' 'fear' 'joy' 'sadness' 'fear' 'anger' 'joy' 'fear']\n"
     ]
    }
   ],
   "source": [
    "## build DecisionTree model\n",
    "DT_model = DecisionTreeClassifier(random_state=0)\n",
    "\n",
    "## training!\n",
    "DT_model = DT_model.fit(X_train, y_train)\n",
    "\n",
    "## predict!\n",
    "y_train_pred = DT_model.predict(X_train)\n",
    "y_test_pred = DT_model.predict(X_test)\n",
    "\n",
    "## so we get the pred result\n",
    "print(y_test_pred[:10])"
   ]
  },
  {
   "cell_type": "code",
   "execution_count": 28,
   "metadata": {
    "collapsed": false,
    "pycharm": {
     "name": "#%%\n"
    }
   },
   "outputs": [
    {
     "name": "stdout",
     "output_type": "stream",
     "text": [
      "training accuracy: 0.99\n",
      "testing accuracy: 0.75\n"
     ]
    }
   ],
   "source": [
    "## accuracy\n",
    "from sklearn.metrics import accuracy_score\n",
    "\n",
    "acc_train = accuracy_score(y_true=y_train, y_pred=y_train_pred)\n",
    "acc_test = accuracy_score(y_true=y_test, y_pred=y_test_pred)\n",
    "\n",
    "print('training accuracy: {}'.format(round(acc_train, 2)))\n",
    "print('testing accuracy: {}'.format(round(acc_test, 2)))"
   ]
  },
  {
   "cell_type": "code",
   "execution_count": 29,
   "metadata": {
    "collapsed": false,
    "pycharm": {
     "name": "#%%\n"
    }
   },
   "outputs": [
    {
     "name": "stdout",
     "output_type": "stream",
     "text": [
      "              precision    recall  f1-score   support\n",
      "\n",
      "       anger       0.70      0.82      0.76        84\n",
      "        fear       0.73      0.75      0.74       110\n",
      "         joy       0.84      0.81      0.83        79\n",
      "     sadness       0.75      0.61      0.67        74\n",
      "\n",
      "    accuracy                           0.75       347\n",
      "   macro avg       0.76      0.75      0.75       347\n",
      "weighted avg       0.75      0.75      0.75       347\n",
      "\n"
     ]
    }
   ],
   "source": [
    "## precision, recall, f1-score,\n",
    "from sklearn.metrics import classification_report\n",
    "\n",
    "print(classification_report(y_true=y_test, y_pred=y_test_pred))"
   ]
  },
  {
   "cell_type": "code",
   "execution_count": 30,
   "metadata": {
    "collapsed": false,
    "pycharm": {
     "name": "#%%\n"
    }
   },
   "outputs": [
    {
     "name": "stdout",
     "output_type": "stream",
     "text": [
      "[[69 10  2  3]\n",
      " [13 83  6  8]\n",
      " [ 5  6 64  4]\n",
      " [11 14  4 45]]\n"
     ]
    }
   ],
   "source": [
    "## check by confusion matrix\n",
    "from sklearn.metrics import confusion_matrix\n",
    "\n",
    "cm = confusion_matrix(y_true=y_test, y_pred=y_test_pred)\n",
    "print(cm)"
   ]
  },
  {
   "cell_type": "code",
   "execution_count": 31,
   "metadata": {
    "collapsed": false,
    "pycharm": {
     "name": "#%%\n"
    }
   },
   "outputs": [],
   "source": [
    "# Function for visualizing confusion_matrix\n",
    "import matplotlib.pyplot as plt\n",
    "import seaborn as sns\n",
    "import numpy as np\n",
    "import itertools\n",
    "\n",
    "\n",
    "def plot_confusion_matrix(cm, classes, title='Confusion matrix',\n",
    "                          cmap=sns.cubehelix_palette(as_cmap=True)):\n",
    "    \"\"\"\n",
    "    This function is modified from:\n",
    "    http://scikit-learn.org/stable/auto_examples/model_selection/plot_confusion_matrix.html\n",
    "    \"\"\"\n",
    "    classes.sort()\n",
    "    tick_marks = np.arange(len(classes))\n",
    "\n",
    "    fig, ax = plt.subplots(figsize=(5, 5))\n",
    "    im = ax.imshow(cm, interpolation='nearest', cmap=cmap)\n",
    "    ax.figure.colorbar(im, ax=ax)\n",
    "    ax.set(xticks=np.arange(cm.shape[1]),\n",
    "           yticks=np.arange(cm.shape[0]),\n",
    "           xticklabels=classes,\n",
    "           yticklabels=classes,\n",
    "           title=title,\n",
    "           xlabel='True label',\n",
    "           ylabel='Predicted label')\n",
    "\n",
    "    fmt = 'd'\n",
    "    thresh = cm.max() / 2.\n",
    "    for i, j in itertools.product(range(cm.shape[0]), range(cm.shape[1])):\n",
    "        plt.text(j, i, format(cm[i, j], fmt), horizontalalignment=\"center\",\n",
    "                 color=\"white\" if cm[i, j] > thresh else \"black\")\n",
    "    ylim_top = len(classes) - 0.5\n",
    "    plt.ylim([ylim_top, -.5])\n",
    "    plt.tight_layout()\n",
    "    plt.show()"
   ]
  },
  {
   "cell_type": "code",
   "execution_count": 32,
   "metadata": {
    "collapsed": false,
    "pycharm": {
     "name": "#%%\n"
    }
   },
   "outputs": [
    {
     "data": {
      "image/png": "[encoded data removed]",
      "text/plain": [
       "<Figure size 500x500 with 2 Axes>"
      ]
     },
     "metadata": {},
     "output_type": "display_data"
    }
   ],
   "source": [
    "# plot confusion matrix\n",
    "my_tags = ['anger', 'fear', 'joy', 'sadness']\n",
    "plot_confusion_matrix(cm, classes=my_tags, title='Confusion matrix')"
   ]
  },
  {
   "cell_type": "markdown",
   "metadata": {
    "collapsed": false,
    "pycharm": {
     "name": "#%% md\n"
    }
   },
   "source": [
    "### Confusion matrix explanation\n",
    "\n",
    "#### Answer\n",
    "1. The model is trained\n",
    "2. The test dataset is used to predict the expected class then we got the actual result.\n",
    "3. We need to know how many actual results are correctly predicted.\n",
    "4. Then confusion matrix function is used to calculate the number of the actual results that are correctly predicted as expected result.\n",
    "\n",
    "From the confusion matrix above it demonstrates number between predicted result (Predicted label) and expected result (True label).\n",
    "Both X and Y axis show the labels of the classes.\n",
    "\n",
    "The cells from diagonal axis from top left to bottom right indicates the correct prediction, which we expect it to have higher number. For the above and below cells are the wrong results that model predicted as other labels.\n",
    "For example the first row and first column indicates that models predicted test data as \"anger\" label correctly 69 times. But for latter columns (2nd - `fear`, 3rd - `joy`, 4th - `sadness`) were wrongly predicted 10, 2, and 3 times respectively.\n",
    "\n",
    "The higher number the lighter colour of the cell, the lower number the darker colour of the cell. Anyway it depends on how we set the colour for the matrix (it can be opposite).\n"
   ]
  },
  {
   "cell_type": "markdown",
   "metadata": {
    "collapsed": false,
    "pycharm": {
     "name": "#%% md\n"
    }
   },
   "source": [
    "----\n",
    "#### Exercise 4\n",
    "\n",
    "Build, train, and test a model using a Naive Bayes model."
   ]
  },
  {
   "cell_type": "code",
   "execution_count": 33,
   "metadata": {
    "collapsed": false,
    "pycharm": {
     "name": "#%%\n"
    }
   },
   "outputs": [
    {
     "name": "stdout",
     "output_type": "stream",
     "text": [
      "training accuracy: 0.87\n",
      "testing accuracy: 0.77\n",
      "              precision    recall  f1-score   support\n",
      "\n",
      "       anger       0.79      0.71      0.75        84\n",
      "        fear       0.68      0.91      0.78       110\n",
      "         joy       0.87      0.75      0.80        79\n",
      "     sadness       0.85      0.64      0.73        74\n",
      "\n",
      "    accuracy                           0.77       347\n",
      "   macro avg       0.80      0.75      0.76       347\n",
      "weighted avg       0.79      0.77      0.77       347\n",
      "\n",
      "[[ 60  14   6   4]\n",
      " [  8 100   1   1]\n",
      " [  5  12  59   3]\n",
      " [  3  22   2  47]]\n"
     ]
    },
    {
     "data": {
      "image/png": "[encoded data removed]",
      "text/plain": [
       "<Figure size 500x500 with 2 Axes>"
      ]
     },
     "metadata": {},
     "output_type": "display_data"
    }
   ],
   "source": [
    "# Answer here\n",
    "from sklearn.naive_bayes import MultinomialNB\n",
    "\n",
    "clf = MultinomialNB()\n",
    "clf.fit(X_train, y_train)\n",
    "\n",
    "## predict\n",
    "y_train_pred = clf.predict(X_train)\n",
    "y_test_pred = clf.predict(X_test)\n",
    "\n",
    "## Calculate accuracy score\n",
    "acc_train = accuracy_score(y_true=y_train, y_pred=y_train_pred)\n",
    "acc_test = accuracy_score(y_true=y_test, y_pred=y_test_pred)\n",
    "\n",
    "print('training accuracy: {}'.format(round(acc_train, 2)))\n",
    "print('testing accuracy: {}'.format(round(acc_test, 2)))\n",
    "print(classification_report(y_true=y_test, y_pred=y_test_pred))\n",
    "\n",
    "## Generate confusion matrix\n",
    "cm = confusion_matrix(y_true=y_test, y_pred=y_test_pred)\n",
    "print(cm)\n",
    "plot_confusion_matrix(cm, classes=my_tags, title='Confusion matrix')"
   ]
  },
  {
   "cell_type": "markdown",
   "metadata": {
    "collapsed": false,
    "pycharm": {
     "name": "#%% md\n"
    }
   },
   "source": [
    "#### Test Result\n",
    "The ratio of accuracy between test and train results is 0.87/0.77 = 1.13.\n",
    "it means the model accuracy different from the training and test around 13 percent.\n",
    "\n",
    "The interesting information is the fear emotion because the highest confusion is from this class (from its lowest precision score).\n",
    "It often be predicted as sad, anger, and joy respectively.\n",
    "\n",
    "On the other hand, the model best recognize joy emotion from its higest precision score 0.87.\n"
   ]
  },
  {
   "cell_type": "markdown",
   "metadata": {
    "collapsed": false,
    "pycharm": {
     "name": "#%% md\n"
    }
   },
   "source": [
    "----\n",
    "#### Exercise 5"
   ]
  },
  {
   "cell_type": "markdown",
   "metadata": {
    "collapsed": false,
    "pycharm": {
     "name": "#%% md\n"
    }
   },
   "source": [
    "### Naive Bayes and Decision Trees Comparison\n",
    "\n",
    "How do the results from the Naive Bayes model and the Decision Tree model compare? How do you interpret these differences? Use the theoretical background covered in class to try and explain these differences.\n",
    "\n",
    "### Answer\n",
    "\n",
    "#### Decision tree\n",
    "Decision tree is build by calculating information gain and getting question to be decided from each record of training data.\n",
    "\n",
    "Information gain is calculated by impurity value which indicates the chance of being incorrect when selecting data.\n",
    "\n",
    "The best information gain will give the best question to be a decision node.\n",
    "\n",
    "The tree will try to build the nodes that base fit the training data. However, it may memorize the noise of the training data and fails to capture important patterns. A perfectly fit decision tree performs well for training data but performs poorly for unseen test data.\n",
    "\n",
    "As we can see from comparison of accuracy during training and testing. Training got 0.99 accuracy but when testing it got just 0.75, this means the model is overfitting.\n",
    "\n",
    "And overall scores like precision, recall, and f1-score are all lower than the counterpart model multinomial naivebayes.\n",
    "\n",
    "#### Naive Bayes\n",
    "Naive Bayes model is build from the model that learns the features from each term in the document. Each learning iteration the model, for each class, calculates posterior probability based on the previous probability and the likelihood that the class could occure in the document.\n",
    "\n",
    "Because the model learns all the changes during training process statistically which considers all the features for each class dependently. Although the model doesn't get decent accuracy during training process, testing process, which used unseen data, can predict more accurately.\n",
    "\n",
    "From the overall scores naivebayes outperforms the decision tree model. Which also means naivebayes is more genelarized than the decision tree model.\n",
    "\n",
    "----"
   ]
  },
  {
   "cell_type": "markdown",
   "metadata": {
    "collapsed": false,
    "pycharm": {
     "name": "#%% md\n"
    }
   },
   "source": [
    "### Exercise 6\n",
    "#### Accuracy and loss plotting"
   ]
  },
  {
   "cell_type": "code",
   "execution_count": 34,
   "metadata": {
    "collapsed": false,
    "pycharm": {
     "name": "#%%\n"
    }
   },
   "outputs": [
    {
     "name": "stderr",
     "output_type": "stream",
     "text": [
      "/Users/kneskung/opt/miniconda3/envs/tensorflow/lib/python3.9/site-packages/sklearn/feature_extraction/text.py:524: UserWarning: The parameter 'token_pattern' will not be used since 'tokenizer' is not None'\n",
      "  warnings.warn(\n"
     ]
    },
    {
     "data": {
      "text/plain": [
       "(3613, 500)"
      ]
     },
     "execution_count": 34,
     "metadata": {},
     "output_type": "execute_result"
    }
   ],
   "source": [
    "import nltk\n",
    "\n",
    "# build analyzers (bag-of-words)\n",
    "# we want to use this tokenizer because it contains more meaningful word vector, like emoji character\n",
    "BOW_500 = CountVectorizer(max_features=500, tokenizer=nltk.word_tokenize)\n",
    "\n",
    "# apply analyzer to training data\n",
    "BOW_500.fit(train_df['text'])\n",
    "\n",
    "train_data_BOW_features_500 = BOW_500.transform(train_df['text'])\n",
    "\n",
    "## check dimension\n",
    "train_data_BOW_features_500.shape"
   ]
  },
  {
   "cell_type": "code",
   "execution_count": 35,
   "metadata": {
    "collapsed": false,
    "pycharm": {
     "name": "#%%\n"
    }
   },
   "outputs": [
    {
     "name": "stdout",
     "output_type": "stream",
     "text": [
      "X_train.shape:  (3613, 500)\n",
      "y_train.shape:  (3613,)\n",
      "X_test.shape:  (347, 500)\n",
      "y_test.shape:  (347,)\n"
     ]
    }
   ],
   "source": [
    "import keras\n",
    "\n",
    "# standardize name (X, y)\n",
    "X_train = BOW_500.transform(train_df['text'])\n",
    "y_train = train_df['emotion']\n",
    "\n",
    "X_test = BOW_500.transform(test_df['text'])\n",
    "y_test = test_df['emotion']\n",
    "\n",
    "## check dimension is a good habbit\n",
    "print('X_train.shape: ', X_train.shape)\n",
    "print('y_train.shape: ', y_train.shape)\n",
    "print('X_test.shape: ', X_test.shape)\n",
    "print('y_test.shape: ', y_test.shape)"
   ]
  },
  {
   "cell_type": "code",
   "execution_count": 36,
   "metadata": {
    "collapsed": false,
    "pycharm": {
     "name": "#%%\n"
    }
   },
   "outputs": [
    {
     "name": "stdout",
     "output_type": "stream",
     "text": [
      "check label:  ['anger' 'fear' 'joy' 'sadness']\n",
      "\n",
      "## Before convert\n",
      "y_train[0:4]:\n",
      " 3227    sadness\n",
      "114       anger\n",
      "1151       fear\n",
      "488       anger\n",
      "Name: emotion, dtype: object\n",
      "\n",
      "y_train.shape:  (3613,)\n",
      "y_test.shape:  (347,)\n"
     ]
    }
   ],
   "source": [
    "from sklearn.preprocessing import LabelEncoder\n",
    "\n",
    "label_encoder = LabelEncoder()\n",
    "label_encoder.fit(y_train)\n",
    "\n",
    "print('check label: ', label_encoder.classes_)\n",
    "print('\\n## Before convert')\n",
    "print('y_train[0:4]:\\n', y_train[0:4])\n",
    "print('\\ny_train.shape: ', y_train.shape)\n",
    "print('y_test.shape: ', y_test.shape)"
   ]
  },
  {
   "cell_type": "code",
   "execution_count": 37,
   "metadata": {
    "collapsed": false,
    "pycharm": {
     "name": "#%%\n"
    }
   },
   "outputs": [],
   "source": [
    "def label_encode(le, labels):\n",
    "    enc = le.transform(labels)\n",
    "    return keras.utils.to_categorical(enc)\n",
    "\n",
    "\n",
    "def label_decode(le, one_hot_label):\n",
    "    dec = np.argmax(one_hot_label, axis=1)\n",
    "    return le.inverse_transform(dec)"
   ]
  },
  {
   "cell_type": "code",
   "execution_count": 38,
   "metadata": {
    "collapsed": false,
    "pycharm": {
     "name": "#%%\n"
    }
   },
   "outputs": [
    {
     "name": "stdout",
     "output_type": "stream",
     "text": [
      "\n",
      "\n",
      "## After convert\n",
      "y_train[0:4]:\n",
      " [[0. 0. 0. 1.]\n",
      " [1. 0. 0. 0.]\n",
      " [0. 1. 0. 0.]\n",
      " [1. 0. 0. 0.]]\n",
      "\n",
      "y_train.shape:  (3613, 4)\n",
      "y_test.shape:  (347, 4)\n"
     ]
    }
   ],
   "source": [
    "y_train = label_encode(label_encoder, y_train)\n",
    "y_test = label_encode(label_encoder, y_test)\n",
    "\n",
    "print('\\n\\n## After convert')\n",
    "print('y_train[0:4]:\\n', y_train[0:4])\n",
    "print('\\ny_train.shape: ', y_train.shape)\n",
    "print('y_test.shape: ', y_test.shape)"
   ]
  },
  {
   "cell_type": "code",
   "execution_count": 39,
   "metadata": {
    "collapsed": false,
    "pycharm": {
     "name": "#%%\n"
    }
   },
   "outputs": [
    {
     "name": "stdout",
     "output_type": "stream",
     "text": [
      "input_shape:  500\n",
      "output_shape:  4\n"
     ]
    }
   ],
   "source": [
    "# I/O check\n",
    "input_shape = X_train.shape[1]\n",
    "print('input_shape: ', input_shape)\n",
    "\n",
    "output_shape = len(label_encoder.classes_)\n",
    "print('output_shape: ', output_shape)"
   ]
  },
  {
   "cell_type": "code",
   "execution_count": 40,
   "metadata": {
    "collapsed": false,
    "pycharm": {
     "name": "#%%\n"
    }
   },
   "outputs": [
    {
     "name": "stdout",
     "output_type": "stream",
     "text": [
      "Metal device set to: Apple M1\n",
      "\n",
      "systemMemory: 16.00 GB\n",
      "maxCacheSize: 5.33 GB\n",
      "\n",
      "Model: \"model\"\n",
      "_________________________________________________________________\n",
      " Layer (type)                Output Shape              Param #   \n",
      "=================================================================\n",
      " input_1 (InputLayer)        [(None, 500)]             0         \n",
      "                                                                 \n",
      " dense (Dense)               (None, 64)                32064     \n",
      "                                                                 \n",
      " re_lu (ReLU)                (None, 64)                0         \n",
      "                                                                 \n",
      " dense_1 (Dense)             (None, 64)                4160      \n",
      "                                                                 \n",
      " re_lu_1 (ReLU)              (None, 64)                0         \n",
      "                                                                 \n",
      " dense_2 (Dense)             (None, 4)                 260       \n",
      "                                                                 \n",
      " softmax (Softmax)           (None, 4)                 0         \n",
      "                                                                 \n",
      "=================================================================\n",
      "Total params: 36,484\n",
      "Trainable params: 36,484\n",
      "Non-trainable params: 0\n",
      "_________________________________________________________________\n"
     ]
    },
    {
     "name": "stderr",
     "output_type": "stream",
     "text": [
      "2022-11-25 18:06:17.137553: I tensorflow/core/common_runtime/pluggable_device/pluggable_device_factory.cc:305] Could not identify NUMA node of platform GPU ID 0, defaulting to 0. Your kernel may not have been built with NUMA support.\n",
      "2022-11-25 18:06:17.137862: I tensorflow/core/common_runtime/pluggable_device/pluggable_device_factory.cc:271] Created TensorFlow device (/job:localhost/replica:0/task:0/device:GPU:0 with 0 MB memory) -> physical PluggableDevice (device: 0, name: METAL, pci bus id: <undefined>)\n"
     ]
    }
   ],
   "source": [
    "from keras.models import Model\n",
    "from keras.layers import Input, Dense\n",
    "from keras.layers import ReLU, Softmax\n",
    "\n",
    "# input layer\n",
    "model_input = Input(shape=(input_shape,))  # 1000\n",
    "X = model_input\n",
    "\n",
    "# 1st hidden layer\n",
    "X_W1 = Dense(units=64)(X)  # 64\n",
    "H1 = ReLU()(X_W1)\n",
    "\n",
    "# 2nd hidden layer\n",
    "H1_W2 = Dense(units=64)(H1)  # 64\n",
    "H2 = ReLU()(H1_W2)\n",
    "\n",
    "# output layer\n",
    "H2_W3 = Dense(units=output_shape)(H2)  # 4\n",
    "H3 = Softmax()(H2_W3)\n",
    "\n",
    "model_output = H3\n",
    "\n",
    "# create model\n",
    "model = Model(inputs=[model_input], outputs=[model_output])\n",
    "\n",
    "# loss function & optimizer\n",
    "model.compile(optimizer='adam',\n",
    "              loss='categorical_crossentropy',\n",
    "              metrics=['accuracy'])\n",
    "\n",
    "# show model construction\n",
    "model.summary()"
   ]
  },
  {
   "cell_type": "code",
   "execution_count": 42,
   "metadata": {
    "collapsed": false,
    "pycharm": {
     "name": "#%%\n"
    }
   },
   "outputs": [
    {
     "name": "stdout",
     "output_type": "stream",
     "text": [
      "Epoch 1/25\n",
      "113/113 [==============================] - 3s 28ms/step - loss: 0.9648 - accuracy: 0.6673 - val_loss: 0.9008 - val_accuracy: 0.6571\n",
      "Epoch 2/25\n",
      "113/113 [==============================] - 3s 23ms/step - loss: 0.5742 - accuracy: 0.8029 - val_loss: 0.7885 - val_accuracy: 0.6916\n",
      "Epoch 3/25\n",
      "113/113 [==============================] - 3s 27ms/step - loss: 0.4091 - accuracy: 0.8516 - val_loss: 0.8129 - val_accuracy: 0.7061\n",
      "Epoch 4/25\n",
      "113/113 [==============================] - 3s 25ms/step - loss: 0.3212 - accuracy: 0.8851 - val_loss: 0.8159 - val_accuracy: 0.6945\n",
      "Epoch 5/25\n",
      "113/113 [==============================] - 3s 27ms/step - loss: 0.2610 - accuracy: 0.9081 - val_loss: 0.8752 - val_accuracy: 0.6888\n",
      "Epoch 6/25\n",
      "113/113 [==============================] - 3s 25ms/step - loss: 0.2215 - accuracy: 0.9258 - val_loss: 0.9416 - val_accuracy: 0.6715\n",
      "Epoch 7/25\n",
      "113/113 [==============================] - 3s 28ms/step - loss: 0.1821 - accuracy: 0.9446 - val_loss: 0.9865 - val_accuracy: 0.6945\n",
      "Epoch 8/25\n",
      "113/113 [==============================] - 3s 26ms/step - loss: 0.1539 - accuracy: 0.9532 - val_loss: 1.0627 - val_accuracy: 0.6888\n",
      "Epoch 9/25\n",
      "113/113 [==============================] - 3s 23ms/step - loss: 0.1390 - accuracy: 0.9571 - val_loss: 1.0961 - val_accuracy: 0.6974\n",
      "Epoch 10/25\n",
      "113/113 [==============================] - 3s 24ms/step - loss: 0.1282 - accuracy: 0.9629 - val_loss: 1.1345 - val_accuracy: 0.6888\n",
      "Epoch 11/25\n",
      "113/113 [==============================] - 3s 24ms/step - loss: 0.1059 - accuracy: 0.9696 - val_loss: 1.1550 - val_accuracy: 0.6859\n",
      "Epoch 12/25\n",
      "113/113 [==============================] - 3s 28ms/step - loss: 0.1070 - accuracy: 0.9668 - val_loss: 1.2147 - val_accuracy: 0.6772\n",
      "Epoch 13/25\n",
      "113/113 [==============================] - 3s 29ms/step - loss: 0.0959 - accuracy: 0.9715 - val_loss: 1.2455 - val_accuracy: 0.6801\n",
      "Epoch 14/25\n",
      "113/113 [==============================] - 3s 29ms/step - loss: 0.0921 - accuracy: 0.9704 - val_loss: 1.3253 - val_accuracy: 0.6628\n",
      "Epoch 15/25\n",
      "113/113 [==============================] - 3s 30ms/step - loss: 0.0902 - accuracy: 0.9715 - val_loss: 1.3530 - val_accuracy: 0.7003\n",
      "Epoch 16/25\n",
      "113/113 [==============================] - 3s 30ms/step - loss: 0.0795 - accuracy: 0.9734 - val_loss: 1.3403 - val_accuracy: 0.6772\n",
      "Epoch 17/25\n",
      "113/113 [==============================] - 3s 29ms/step - loss: 0.0827 - accuracy: 0.9723 - val_loss: 1.3767 - val_accuracy: 0.6744\n",
      "Epoch 18/25\n",
      "113/113 [==============================] - 3s 30ms/step - loss: 0.0774 - accuracy: 0.9745 - val_loss: 1.3841 - val_accuracy: 0.6888\n",
      "Epoch 19/25\n",
      "113/113 [==============================] - 3s 28ms/step - loss: 0.0727 - accuracy: 0.9765 - val_loss: 1.4543 - val_accuracy: 0.6715\n",
      "Epoch 20/25\n",
      "113/113 [==============================] - 3s 29ms/step - loss: 0.0724 - accuracy: 0.9770 - val_loss: 1.5108 - val_accuracy: 0.6599\n",
      "Epoch 21/25\n",
      "113/113 [==============================] - 3s 28ms/step - loss: 0.0688 - accuracy: 0.9765 - val_loss: 1.4894 - val_accuracy: 0.6715\n",
      "Epoch 22/25\n",
      "113/113 [==============================] - 3s 29ms/step - loss: 0.0666 - accuracy: 0.9779 - val_loss: 1.5260 - val_accuracy: 0.6744\n",
      "Epoch 23/25\n",
      "113/113 [==============================] - 3s 29ms/step - loss: 0.0621 - accuracy: 0.9776 - val_loss: 1.5222 - val_accuracy: 0.6715\n",
      "Epoch 24/25\n",
      "113/113 [==============================] - 3s 29ms/step - loss: 0.0635 - accuracy: 0.9770 - val_loss: 1.5468 - val_accuracy: 0.6888\n",
      "Epoch 25/25\n",
      "113/113 [==============================] - 3s 28ms/step - loss: 0.0603 - accuracy: 0.9773 - val_loss: 1.5579 - val_accuracy: 0.6715\n",
      "training finish\n"
     ]
    }
   ],
   "source": [
    "import tensorflow as tf\n",
    "from keras.callbacks import CSVLogger\n",
    "\n",
    "\n",
    "\n",
    "csv_logger = CSVLogger('logs/training_log.csv')\n",
    "\n",
    "# training setting\n",
    "epochs = 25\n",
    "batch_size = 32\n",
    "\n",
    "# training!\n",
    "history = model.fit(X_train, y_train,\n",
    "                    epochs=epochs,\n",
    "                    batch_size=batch_size,\n",
    "                    callbacks=[csv_logger],\n",
    "                    validation_data=(X_test, y_test))\n",
    "print('training finish')"
   ]
  },
  {
   "cell_type": "code",
   "execution_count": 43,
   "metadata": {
    "collapsed": false,
    "pycharm": {
     "name": "#%%\n"
    }
   },
   "outputs": [
    {
     "name": "stdout",
     "output_type": "stream",
     "text": [
      "3/3 [==============================] - 0s 39ms/step\n",
      "[[3.76084000e-02 4.22956422e-02 8.09228480e-01 1.10867567e-01]\n",
      " [9.99868393e-01 1.45595777e-05 1.47851711e-06 1.15572446e-04]\n",
      " [2.22021517e-05 6.36603800e-05 9.99570906e-01 3.43220017e-04]\n",
      " [6.88338901e-07 9.99797404e-01 3.26212977e-08 2.01896415e-04]\n",
      " [7.29647880e-08 1.00646948e-05 9.99965072e-01 2.46988802e-05]]\n"
     ]
    },
    {
     "name": "stderr",
     "output_type": "stream",
     "text": [
      "2022-11-25 18:08:31.435011: I tensorflow/core/grappler/optimizers/custom_graph_optimizer_registry.cc:113] Plugin optimizer for device_type GPU is enabled.\n"
     ]
    }
   ],
   "source": [
    "## predict\n",
    "pred_result = model.predict(X_test, batch_size=128)\n",
    "print(pred_result[:5])"
   ]
  },
  {
   "cell_type": "code",
   "execution_count": 44,
   "metadata": {
    "collapsed": false,
    "pycharm": {
     "name": "#%%\n"
    }
   },
   "outputs": [
    {
     "name": "stdout",
     "output_type": "stream",
     "text": [
      "['joy' 'anger' 'joy' 'fear' 'joy']\n"
     ]
    }
   ],
   "source": [
    "pred_result = label_decode(label_encoder, pred_result)\n",
    "print(pred_result[:5])"
   ]
  },
  {
   "cell_type": "code",
   "execution_count": 45,
   "metadata": {
    "collapsed": false,
    "pycharm": {
     "name": "#%%\n"
    }
   },
   "outputs": [
    {
     "name": "stdout",
     "output_type": "stream",
     "text": [
      "testing accuracy: 0.67\n"
     ]
    }
   ],
   "source": [
    "from sklearn.metrics import accuracy_score\n",
    "\n",
    "print('testing accuracy: {}'.format(round(accuracy_score(label_decode(label_encoder, y_test), pred_result), 2)))"
   ]
  },
  {
   "cell_type": "code",
   "execution_count": 46,
   "metadata": {
    "collapsed": false,
    "pycharm": {
     "name": "#%%\n"
    }
   },
   "outputs": [
    {
     "data": {
      "text/html": [
       "<div>\n",
       "<style scoped>\n",
       "    .dataframe tbody tr th:only-of-type {\n",
       "        vertical-align: middle;\n",
       "    }\n",
       "\n",
       "    .dataframe tbody tr th {\n",
       "        vertical-align: top;\n",
       "    }\n",
       "\n",
       "    .dataframe thead th {\n",
       "        text-align: right;\n",
       "    }\n",
       "</style>\n",
       "<table border=\"1\" class=\"dataframe\">\n",
       "  <thead>\n",
       "    <tr style=\"text-align: right;\">\n",
       "      <th></th>\n",
       "      <th>epoch</th>\n",
       "      <th>accuracy</th>\n",
       "      <th>loss</th>\n",
       "      <th>val_accuracy</th>\n",
       "      <th>val_loss</th>\n",
       "    </tr>\n",
       "  </thead>\n",
       "  <tbody>\n",
       "    <tr>\n",
       "      <th>0</th>\n",
       "      <td>0</td>\n",
       "      <td>0.667313</td>\n",
       "      <td>0.964773</td>\n",
       "      <td>0.657061</td>\n",
       "      <td>0.900826</td>\n",
       "    </tr>\n",
       "    <tr>\n",
       "      <th>1</th>\n",
       "      <td>1</td>\n",
       "      <td>0.802934</td>\n",
       "      <td>0.574243</td>\n",
       "      <td>0.691643</td>\n",
       "      <td>0.788457</td>\n",
       "    </tr>\n",
       "    <tr>\n",
       "      <th>2</th>\n",
       "      <td>2</td>\n",
       "      <td>0.851647</td>\n",
       "      <td>0.409054</td>\n",
       "      <td>0.706052</td>\n",
       "      <td>0.812859</td>\n",
       "    </tr>\n",
       "    <tr>\n",
       "      <th>3</th>\n",
       "      <td>3</td>\n",
       "      <td>0.885137</td>\n",
       "      <td>0.321231</td>\n",
       "      <td>0.694525</td>\n",
       "      <td>0.815879</td>\n",
       "    </tr>\n",
       "    <tr>\n",
       "      <th>4</th>\n",
       "      <td>4</td>\n",
       "      <td>0.908110</td>\n",
       "      <td>0.260952</td>\n",
       "      <td>0.688761</td>\n",
       "      <td>0.875214</td>\n",
       "    </tr>\n",
       "    <tr>\n",
       "      <th>5</th>\n",
       "      <td>5</td>\n",
       "      <td>0.925823</td>\n",
       "      <td>0.221532</td>\n",
       "      <td>0.671470</td>\n",
       "      <td>0.941551</td>\n",
       "    </tr>\n",
       "    <tr>\n",
       "      <th>6</th>\n",
       "      <td>6</td>\n",
       "      <td>0.944644</td>\n",
       "      <td>0.182139</td>\n",
       "      <td>0.694525</td>\n",
       "      <td>0.986496</td>\n",
       "    </tr>\n",
       "    <tr>\n",
       "      <th>7</th>\n",
       "      <td>7</td>\n",
       "      <td>0.953224</td>\n",
       "      <td>0.153908</td>\n",
       "      <td>0.688761</td>\n",
       "      <td>1.062674</td>\n",
       "    </tr>\n",
       "    <tr>\n",
       "      <th>8</th>\n",
       "      <td>8</td>\n",
       "      <td>0.957099</td>\n",
       "      <td>0.139025</td>\n",
       "      <td>0.697406</td>\n",
       "      <td>1.096074</td>\n",
       "    </tr>\n",
       "    <tr>\n",
       "      <th>9</th>\n",
       "      <td>9</td>\n",
       "      <td>0.962912</td>\n",
       "      <td>0.128203</td>\n",
       "      <td>0.688761</td>\n",
       "      <td>1.134491</td>\n",
       "    </tr>\n",
       "    <tr>\n",
       "      <th>10</th>\n",
       "      <td>10</td>\n",
       "      <td>0.969554</td>\n",
       "      <td>0.105893</td>\n",
       "      <td>0.685879</td>\n",
       "      <td>1.155041</td>\n",
       "    </tr>\n",
       "    <tr>\n",
       "      <th>11</th>\n",
       "      <td>11</td>\n",
       "      <td>0.966787</td>\n",
       "      <td>0.107009</td>\n",
       "      <td>0.677233</td>\n",
       "      <td>1.214738</td>\n",
       "    </tr>\n",
       "    <tr>\n",
       "      <th>12</th>\n",
       "      <td>12</td>\n",
       "      <td>0.971492</td>\n",
       "      <td>0.095888</td>\n",
       "      <td>0.680115</td>\n",
       "      <td>1.245464</td>\n",
       "    </tr>\n",
       "    <tr>\n",
       "      <th>13</th>\n",
       "      <td>13</td>\n",
       "      <td>0.970385</td>\n",
       "      <td>0.092079</td>\n",
       "      <td>0.662824</td>\n",
       "      <td>1.325322</td>\n",
       "    </tr>\n",
       "    <tr>\n",
       "      <th>14</th>\n",
       "      <td>14</td>\n",
       "      <td>0.971492</td>\n",
       "      <td>0.090170</td>\n",
       "      <td>0.700288</td>\n",
       "      <td>1.353007</td>\n",
       "    </tr>\n",
       "    <tr>\n",
       "      <th>15</th>\n",
       "      <td>15</td>\n",
       "      <td>0.973429</td>\n",
       "      <td>0.079476</td>\n",
       "      <td>0.677233</td>\n",
       "      <td>1.340337</td>\n",
       "    </tr>\n",
       "    <tr>\n",
       "      <th>16</th>\n",
       "      <td>16</td>\n",
       "      <td>0.972322</td>\n",
       "      <td>0.082677</td>\n",
       "      <td>0.674352</td>\n",
       "      <td>1.376723</td>\n",
       "    </tr>\n",
       "    <tr>\n",
       "      <th>17</th>\n",
       "      <td>17</td>\n",
       "      <td>0.974536</td>\n",
       "      <td>0.077374</td>\n",
       "      <td>0.688761</td>\n",
       "      <td>1.384085</td>\n",
       "    </tr>\n",
       "    <tr>\n",
       "      <th>18</th>\n",
       "      <td>18</td>\n",
       "      <td>0.976474</td>\n",
       "      <td>0.072717</td>\n",
       "      <td>0.671470</td>\n",
       "      <td>1.454264</td>\n",
       "    </tr>\n",
       "    <tr>\n",
       "      <th>19</th>\n",
       "      <td>19</td>\n",
       "      <td>0.977027</td>\n",
       "      <td>0.072448</td>\n",
       "      <td>0.659942</td>\n",
       "      <td>1.510820</td>\n",
       "    </tr>\n",
       "    <tr>\n",
       "      <th>20</th>\n",
       "      <td>20</td>\n",
       "      <td>0.976474</td>\n",
       "      <td>0.068755</td>\n",
       "      <td>0.671470</td>\n",
       "      <td>1.489389</td>\n",
       "    </tr>\n",
       "    <tr>\n",
       "      <th>21</th>\n",
       "      <td>21</td>\n",
       "      <td>0.977858</td>\n",
       "      <td>0.066570</td>\n",
       "      <td>0.674352</td>\n",
       "      <td>1.526034</td>\n",
       "    </tr>\n",
       "    <tr>\n",
       "      <th>22</th>\n",
       "      <td>22</td>\n",
       "      <td>0.977581</td>\n",
       "      <td>0.062137</td>\n",
       "      <td>0.671470</td>\n",
       "      <td>1.522214</td>\n",
       "    </tr>\n",
       "    <tr>\n",
       "      <th>23</th>\n",
       "      <td>23</td>\n",
       "      <td>0.977027</td>\n",
       "      <td>0.063510</td>\n",
       "      <td>0.688761</td>\n",
       "      <td>1.546836</td>\n",
       "    </tr>\n",
       "    <tr>\n",
       "      <th>24</th>\n",
       "      <td>24</td>\n",
       "      <td>0.977304</td>\n",
       "      <td>0.060256</td>\n",
       "      <td>0.671470</td>\n",
       "      <td>1.557894</td>\n",
       "    </tr>\n",
       "  </tbody>\n",
       "</table>\n",
       "</div>"
      ],
      "text/plain": [
       "    epoch  accuracy      loss  val_accuracy  val_loss\n",
       "0       0  0.667313  0.964773      0.657061  0.900826\n",
       "1       1  0.802934  0.574243      0.691643  0.788457\n",
       "2       2  0.851647  0.409054      0.706052  0.812859\n",
       "3       3  0.885137  0.321231      0.694525  0.815879\n",
       "4       4  0.908110  0.260952      0.688761  0.875214\n",
       "5       5  0.925823  0.221532      0.671470  0.941551\n",
       "6       6  0.944644  0.182139      0.694525  0.986496\n",
       "7       7  0.953224  0.153908      0.688761  1.062674\n",
       "8       8  0.957099  0.139025      0.697406  1.096074\n",
       "9       9  0.962912  0.128203      0.688761  1.134491\n",
       "10     10  0.969554  0.105893      0.685879  1.155041\n",
       "11     11  0.966787  0.107009      0.677233  1.214738\n",
       "12     12  0.971492  0.095888      0.680115  1.245464\n",
       "13     13  0.970385  0.092079      0.662824  1.325322\n",
       "14     14  0.971492  0.090170      0.700288  1.353007\n",
       "15     15  0.973429  0.079476      0.677233  1.340337\n",
       "16     16  0.972322  0.082677      0.674352  1.376723\n",
       "17     17  0.974536  0.077374      0.688761  1.384085\n",
       "18     18  0.976474  0.072717      0.671470  1.454264\n",
       "19     19  0.977027  0.072448      0.659942  1.510820\n",
       "20     20  0.976474  0.068755      0.671470  1.489389\n",
       "21     21  0.977858  0.066570      0.674352  1.526034\n",
       "22     22  0.977581  0.062137      0.671470  1.522214\n",
       "23     23  0.977027  0.063510      0.688761  1.546836\n",
       "24     24  0.977304  0.060256      0.671470  1.557894"
      ]
     },
     "execution_count": 46,
     "metadata": {},
     "output_type": "execute_result"
    }
   ],
   "source": [
    "#Let's take a look at the training log\n",
    "training_log = pd.DataFrame()\n",
    "training_log = pd.read_csv(\"logs/training_log.csv\")\n",
    "training_log"
   ]
  },
  {
   "cell_type": "code",
   "execution_count": 47,
   "metadata": {
    "collapsed": false,
    "pycharm": {
     "name": "#%%\n"
    }
   },
   "outputs": [
    {
     "data": {
      "image/png": "[encoded data removed]",
      "text/plain": [
       "<Figure size 640x480 with 1 Axes>"
      ]
     },
     "metadata": {},
     "output_type": "display_data"
    },
    {
     "data": {
      "image/png": "[encoded data removed]",
      "text/plain": [
       "<Figure size 640x480 with 1 Axes>"
      ]
     },
     "metadata": {},
     "output_type": "display_data"
    }
   ],
   "source": [
    "# Answer here\n",
    "plt.plot(history.history['loss'], label='Train Loss')\n",
    "plt.plot(history.history['val_loss'], label='Val Loss')\n",
    "plt.legend()\n",
    "plt.show()\n",
    "\n",
    "# accuracies\n",
    "plt.plot(history.history['accuracy'], label='Train Accuracy')\n",
    "plt.plot(history.history['val_accuracy'], label='Val Accuracy')\n",
    "plt.legend()\n",
    "plt.show()"
   ]
  },
  {
   "cell_type": "markdown",
   "metadata": {
    "collapsed": false,
    "pycharm": {
     "name": "#%% md\n"
    }
   },
   "source": [
    "### Loss function graph interpretation\n",
    "\n",
    "Because we cannot only rely on the final result of accuracy rate, but we need to justify if the model does truthful prediction.\n",
    "\n",
    "So we use test dataset to calculate loss and accuracy values in order to justify the reliability of the trained model.\n",
    "The decent model, the trend of train and test both accuracy and loss values should converge to each other.\n",
    "For the loss value, the closer to the zero the better. On the other hand, the accuracy value should close to the 1.\n",
    "\n",
    "According to the graph, it is showing that the validation loss trend increasing while train loss decreasing it indicates that the trained dataset is over-fitting.\n",
    "It means that the model relies on the training data too much thus fails to generalize the data from the validation data.\n",
    "\n",
    "\n",
    "\n",
    "#### But what is the loss function actually?\n",
    "It is a method of evaluating how well the algorithm models and shapes training dataset. The loss value is calculated from cross entropy loss function and thus compare with the predicted probability.\n",
    "Each training epoch will calculate summation of loss values that will be used to update weights and biases via back propagation.\n",
    "If the model cannot decrease the loss value there are two main problems in there.\n",
    "- First, the training data is imbalant. There might be some classes have bigger proportions than the other. Hence, we should alleviate the problem by under_sampling or over_sampling.\n",
    "- Second, hyperparameter such as learning rate and batch_size are not fit well with the model. Thus, need to tune and fine the better learning rate and batch_size. Sometimes, we might also need to change optimizer and activation function that best match to each other.\n",
    "\n",
    "\n"
   ]
  },
  {
   "cell_type": "markdown",
   "metadata": {
    "collapsed": false,
    "pycharm": {
     "name": "#%% md\n"
    }
   },
   "source": [
    "----"
   ]
  },
  {
   "cell_type": "markdown",
   "metadata": {
    "collapsed": false,
    "pycharm": {
     "name": "#%% md\n"
    }
   },
   "source": [
    "### Exercise 7\n",
    "#### Build neural network model based on embeddings input\n",
    "1. In this exercise, the `glove_twitter_200` word to vector model is used which has 200 dimension of word features.\n",
    "2. In the fact that the training data is imbalant, so I tried to apply over sampling strategy to train model.\n",
    "3. The word embeddings is built to be an input in neural network model."
   ]
  },
  {
   "cell_type": "code",
   "execution_count": 48,
   "metadata": {
    "collapsed": false,
    "pycharm": {
     "name": "#%%\n"
    }
   },
   "outputs": [
    {
     "data": {
      "text/html": [
       "<div>\n",
       "<style scoped>\n",
       "    .dataframe tbody tr th:only-of-type {\n",
       "        vertical-align: middle;\n",
       "    }\n",
       "\n",
       "    .dataframe tbody tr th {\n",
       "        vertical-align: top;\n",
       "    }\n",
       "\n",
       "    .dataframe thead th {\n",
       "        text-align: right;\n",
       "    }\n",
       "</style>\n",
       "<table border=\"1\" class=\"dataframe\">\n",
       "  <thead>\n",
       "    <tr style=\"text-align: right;\">\n",
       "      <th></th>\n",
       "      <th>id</th>\n",
       "      <th>text</th>\n",
       "      <th>text_tokenized</th>\n",
       "    </tr>\n",
       "  </thead>\n",
       "  <tbody>\n",
       "    <tr>\n",
       "      <th>3227</th>\n",
       "      <td>40400</td>\n",
       "      <td>Don't blame yourself,' he spoke, as if she wer...</td>\n",
       "      <td>[Do, n't, blame, yourself, ,, ', he, spoke, ,,...</td>\n",
       "    </tr>\n",
       "    <tr>\n",
       "      <th>114</th>\n",
       "      <td>10114</td>\n",
       "      <td>@VerizonSupport thanks for saying My wife and ...</td>\n",
       "      <td>[@, VerizonSupport, thanks, for, saying, My, w...</td>\n",
       "    </tr>\n",
       "    <tr>\n",
       "      <th>1151</th>\n",
       "      <td>20294</td>\n",
       "      <td>@williamcontrol just preordered The Pale EP......</td>\n",
       "      <td>[@, williamcontrol, just, preordered, The, Pal...</td>\n",
       "    </tr>\n",
       "    <tr>\n",
       "      <th>488</th>\n",
       "      <td>10488</td>\n",
       "      <td>Before revenge you feel good after revenge you...</td>\n",
       "      <td>[Before, revenge, you, feel, good, after, reve...</td>\n",
       "    </tr>\n",
       "    <tr>\n",
       "      <th>1532</th>\n",
       "      <td>20675</td>\n",
       "      <td>We, #Indians, can hold our heads up high and s...</td>\n",
       "      <td>[We, ,, #, Indians, ,, can, hold, our, heads, ...</td>\n",
       "    </tr>\n",
       "  </tbody>\n",
       "</table>\n",
       "</div>"
      ],
      "text/plain": [
       "         id                                               text  \\\n",
       "3227  40400  Don't blame yourself,' he spoke, as if she wer...   \n",
       "114   10114  @VerizonSupport thanks for saying My wife and ...   \n",
       "1151  20294  @williamcontrol just preordered The Pale EP......   \n",
       "488   10488  Before revenge you feel good after revenge you...   \n",
       "1532  20675  We, #Indians, can hold our heads up high and s...   \n",
       "\n",
       "                                         text_tokenized  \n",
       "3227  [Do, n't, blame, yourself, ,, ', he, spoke, ,,...  \n",
       "114   [@, VerizonSupport, thanks, for, saying, My, w...  \n",
       "1151  [@, williamcontrol, just, preordered, The, Pal...  \n",
       "488   [Before, revenge, you, feel, good, after, reve...  \n",
       "1532  [We, ,, #, Indians, ,, can, hold, our, heads, ...  "
      ]
     },
     "execution_count": 48,
     "metadata": {},
     "output_type": "execute_result"
    }
   ],
   "source": [
    "## check library\n",
    "import nltk\n",
    "import gensim\n",
    "\n",
    "## ignore warnings\n",
    "import warnings\n",
    "\n",
    "warnings.filterwarnings('ignore')\n",
    "\n",
    "## the input type\n",
    "train_df['text_tokenized'] = train_df['text'].apply(lambda x: nltk.word_tokenize(x))\n",
    "train_df[['id', 'text', 'text_tokenized']].head()"
   ]
  },
  {
   "cell_type": "code",
   "execution_count": 49,
   "metadata": {
    "collapsed": false,
    "pycharm": {
     "name": "#%%\n"
    }
   },
   "outputs": [],
   "source": [
    "train_df['text_tokenized'] = train_df['text'].apply(lambda x: nltk.word_tokenize(x))"
   ]
  },
  {
   "cell_type": "code",
   "execution_count": 50,
   "metadata": {
    "collapsed": false,
    "pycharm": {
     "name": "#%%\n"
    }
   },
   "outputs": [
    {
     "name": "stdout",
     "output_type": "stream",
     "text": [
      "load ok\n"
     ]
    },
    {
     "data": {
      "text/plain": [
       "[('birthday', 0.8998554944992065),\n",
       " ('day', 0.8070886731147766),\n",
       " ('bday', 0.7734537720680237),\n",
       " ('wish', 0.7571845650672913),\n",
       " ('merry', 0.726503849029541),\n",
       " ('love', 0.7250142693519592),\n",
       " ('year', 0.7109401226043701),\n",
       " ('you', 0.7065563797950745),\n",
       " ('hope', 0.7004973292350769),\n",
       " ('thank', 0.6997925043106079)]"
      ]
     },
     "execution_count": 50,
     "metadata": {},
     "output_type": "execute_result"
    }
   ],
   "source": [
    "import gensim.downloader as api\n",
    "\n",
    "## If you see `SSL: CERTIFICATE_VERIFY_FAILED` error, use this:\n",
    "import ssl\n",
    "import urllib.request\n",
    "\n",
    "ssl._create_default_https_context = ssl._create_unverified_context\n",
    "\n",
    "glove_twitter_200_model = api.load(\"glove-twitter-200\")\n",
    "print('load ok')\n",
    "\n",
    "glove_twitter_200_model.most_similar('happy', topn=10)"
   ]
  },
  {
   "cell_type": "markdown",
   "metadata": {
    "collapsed": false,
    "pycharm": {
     "name": "#%% md\n"
    }
   },
   "source": [
    "#### Oversampling\n",
    "Becouse the proportion of joy emotion is higher that the other, I tried to use over sampling approach to train the model."
   ]
  },
  {
   "cell_type": "code",
   "execution_count": 51,
   "metadata": {
    "collapsed": false,
    "pycharm": {
     "name": "#%%\n"
    }
   },
   "outputs": [
    {
     "data": {
      "text/plain": [
       "<BarContainer object of 4 artists>"
      ]
     },
     "execution_count": 51,
     "metadata": {},
     "output_type": "execute_result"
    },
    {
     "data": {
      "image/png": "[encoded data removed]",
      "text/plain": [
       "<Figure size 640x480 with 1 Axes>"
      ]
     },
     "metadata": {},
     "output_type": "display_data"
    }
   ],
   "source": [
    "from collections import Counter\n",
    "\n",
    "cnt = Counter(train_df['emotion'])\n",
    "plt.bar(cnt.keys(), cnt.values())"
   ]
  },
  {
   "cell_type": "code",
   "execution_count": 52,
   "metadata": {
    "collapsed": false,
    "pycharm": {
     "name": "#%%\n"
    }
   },
   "outputs": [
    {
     "data": {
      "text/html": [
       "<div>\n",
       "<style scoped>\n",
       "    .dataframe tbody tr th:only-of-type {\n",
       "        vertical-align: middle;\n",
       "    }\n",
       "\n",
       "    .dataframe tbody tr th {\n",
       "        vertical-align: top;\n",
       "    }\n",
       "\n",
       "    .dataframe thead th {\n",
       "        text-align: right;\n",
       "    }\n",
       "</style>\n",
       "<table border=\"1\" class=\"dataframe\">\n",
       "  <thead>\n",
       "    <tr style=\"text-align: right;\">\n",
       "      <th></th>\n",
       "      <th>text</th>\n",
       "      <th>emotion</th>\n",
       "    </tr>\n",
       "  </thead>\n",
       "  <tbody>\n",
       "    <tr>\n",
       "      <th>0</th>\n",
       "      <td>Don't blame yourself,' he spoke, as if she wer...</td>\n",
       "      <td>sadness</td>\n",
       "    </tr>\n",
       "    <tr>\n",
       "      <th>1</th>\n",
       "      <td>@VerizonSupport thanks for saying My wife and ...</td>\n",
       "      <td>anger</td>\n",
       "    </tr>\n",
       "    <tr>\n",
       "      <th>2</th>\n",
       "      <td>@williamcontrol just preordered The Pale EP......</td>\n",
       "      <td>fear</td>\n",
       "    </tr>\n",
       "    <tr>\n",
       "      <th>3</th>\n",
       "      <td>Before revenge you feel good after revenge you...</td>\n",
       "      <td>anger</td>\n",
       "    </tr>\n",
       "    <tr>\n",
       "      <th>4</th>\n",
       "      <td>We, #Indians, can hold our heads up high and s...</td>\n",
       "      <td>fear</td>\n",
       "    </tr>\n",
       "    <tr>\n",
       "      <th>...</th>\n",
       "      <td>...</td>\n",
       "      <td>...</td>\n",
       "    </tr>\n",
       "    <tr>\n",
       "      <th>4583</th>\n",
       "      <td>Dad asked if I was too hungover to function to...</td>\n",
       "      <td>sadness</td>\n",
       "    </tr>\n",
       "    <tr>\n",
       "      <th>4584</th>\n",
       "      <td>im so gloomy today</td>\n",
       "      <td>sadness</td>\n",
       "    </tr>\n",
       "    <tr>\n",
       "      <th>4585</th>\n",
       "      <td>@jaymohr37 droop saw naked wrestling and asked...</td>\n",
       "      <td>sadness</td>\n",
       "    </tr>\n",
       "    <tr>\n",
       "      <th>4586</th>\n",
       "      <td>Feel so grim + ugly atm</td>\n",
       "      <td>sadness</td>\n",
       "    </tr>\n",
       "    <tr>\n",
       "      <th>4587</th>\n",
       "      <td>Im think ima lay in bed all day and sulk. Life...</td>\n",
       "      <td>sadness</td>\n",
       "    </tr>\n",
       "  </tbody>\n",
       "</table>\n",
       "<p>4588 rows × 2 columns</p>\n",
       "</div>"
      ],
      "text/plain": [
       "                                                   text  emotion\n",
       "0     Don't blame yourself,' he spoke, as if she wer...  sadness\n",
       "1     @VerizonSupport thanks for saying My wife and ...    anger\n",
       "2     @williamcontrol just preordered The Pale EP......     fear\n",
       "3     Before revenge you feel good after revenge you...    anger\n",
       "4     We, #Indians, can hold our heads up high and s...     fear\n",
       "...                                                 ...      ...\n",
       "4583  Dad asked if I was too hungover to function to...  sadness\n",
       "4584                                 im so gloomy today  sadness\n",
       "4585  @jaymohr37 droop saw naked wrestling and asked...  sadness\n",
       "4586                            Feel so grim + ugly atm  sadness\n",
       "4587  Im think ima lay in bed all day and sulk. Life...  sadness\n",
       "\n",
       "[4588 rows x 2 columns]"
      ]
     },
     "execution_count": 52,
     "metadata": {},
     "output_type": "execute_result"
    }
   ],
   "source": [
    "\n",
    "from imblearn.over_sampling import RandomOverSampler\n",
    "\n",
    "text_data = train_df['text'].to_numpy().reshape(-1, 1)\n",
    "label_data = train_df['emotion'].to_numpy().reshape(-1, 1)\n",
    "\n",
    "ros = RandomOverSampler(random_state=0)\n",
    "# rus.fit(X, y)\n",
    "X_resampled, y_resampled = ros.fit_resample(text_data, label_data)\n",
    "resampled_train_df = pd.DataFrame({'text': [r[0] for r in X_resampled.tolist()], 'emotion': y_resampled.tolist()})\n",
    "resampled_train_df"
   ]
  },
  {
   "cell_type": "code",
   "execution_count": 53,
   "metadata": {
    "collapsed": false,
    "pycharm": {
     "name": "#%%\n"
    }
   },
   "outputs": [
    {
     "data": {
      "text/plain": [
       "<BarContainer object of 4 artists>"
      ]
     },
     "execution_count": 53,
     "metadata": {},
     "output_type": "execute_result"
    },
    {
     "data": {
      "image/png": "[encoded data removed]",
      "text/plain": [
       "<Figure size 640x480 with 1 Axes>"
      ]
     },
     "metadata": {},
     "output_type": "display_data"
    }
   ],
   "source": [
    "resampled_cnt = Counter(resampled_train_df['emotion'])\n",
    "plt.bar(resampled_cnt.keys(), resampled_cnt.values())"
   ]
  },
  {
   "cell_type": "markdown",
   "metadata": {
    "collapsed": false,
    "pycharm": {
     "name": "#%% md\n"
    }
   },
   "source": [
    "As we can see from above bar graph the proportion of all emotions now are the same."
   ]
  },
  {
   "cell_type": "markdown",
   "metadata": {
    "collapsed": false,
    "pycharm": {
     "name": "#%% md\n"
    }
   },
   "source": [
    "### Prepare training data for word embedding\n",
    "1. Get vocab size from the text in train and test dataset\n",
    "2. Create tokenizer for the dataset word corpus.\n",
    "3. Encode the word into its index in the corpus.\n",
    "4. Padding the encoding tokens to the max length.\n",
    "5. Transform the text labels into categorical labels.\n",
    "6. Create word embeddings metrix for the embedding layer of neural networks."
   ]
  },
  {
   "cell_type": "code",
   "execution_count": 54,
   "metadata": {
    "collapsed": false,
    "pycharm": {
     "name": "#%%\n"
    }
   },
   "outputs": [],
   "source": [
    "from keras.preprocessing.text import Tokenizer\n",
    "import numpy as np\n",
    "\n",
    "# 1. Get vocab_size\n",
    "# 2. Create tokenizer\n",
    "phrases = pd.concat([resampled_train_df, test_df], ignore_index=True)['text']\n",
    "tok = Tokenizer()\n",
    "tok.fit_on_texts(phrases)\n",
    "vocab_size = len(tok.word_index) + 1"
   ]
  },
  {
   "cell_type": "code",
   "execution_count": 55,
   "metadata": {
    "collapsed": false,
    "pycharm": {
     "name": "#%%\n"
    }
   },
   "outputs": [
    {
     "data": {
      "text/plain": [
       "34"
      ]
     },
     "execution_count": 55,
     "metadata": {},
     "output_type": "execute_result"
    }
   ],
   "source": [
    "# 3. Encode to the word into its index\n",
    "train_encoded_phrase = tok.texts_to_sequences(resampled_train_df['text'])\n",
    "test_encoded_phrase = tok.texts_to_sequences(test_df['text'])\n",
    "lengths = [len(i) for i in train_encoded_phrase]\n",
    "max(lengths)"
   ]
  },
  {
   "cell_type": "code",
   "execution_count": 56,
   "metadata": {
    "collapsed": false,
    "pycharm": {
     "name": "#%%\n"
    }
   },
   "outputs": [],
   "source": [
    "from keras.utils import pad_sequences\n",
    "\n",
    "# 4. Padding encoding sequences.\n",
    "X_train = pad_sequences(train_encoded_phrase, maxlen=max(lengths), padding='post')\n",
    "X_test = pad_sequences(test_encoded_phrase, maxlen=max(lengths), padding='post')"
   ]
  },
  {
   "cell_type": "code",
   "execution_count": 57,
   "metadata": {
    "collapsed": false,
    "pycharm": {
     "name": "#%%\n"
    }
   },
   "outputs": [
    {
     "data": {
      "text/plain": [
       "{0: 'anger', 1: 'fear', 2: 'joy', 3: 'sadness'}"
      ]
     },
     "execution_count": 57,
     "metadata": {},
     "output_type": "execute_result"
    }
   ],
   "source": [
    "from sklearn.preprocessing import OneHotEncoder\n",
    "\n",
    "# Get categorical labels from one hot encoder\n",
    "encoder = OneHotEncoder()\n",
    "x_trans = encoder.fit_transform(y_resampled.reshape(-1,1))\n",
    "labels_dict = {i: label[3:] for i, label in enumerate(encoder.get_feature_names_out())}\n",
    "labels_dict"
   ]
  },
  {
   "cell_type": "code",
   "execution_count": 58,
   "metadata": {
    "collapsed": false,
    "pycharm": {
     "name": "#%%\n"
    }
   },
   "outputs": [
    {
     "name": "stdout",
     "output_type": "stream",
     "text": [
      "[[0. 0. 0. 1.]\n",
      " [1. 0. 0. 0.]\n",
      " [0. 1. 0. 0.]\n",
      " [1. 0. 0. 0.]\n",
      " [0. 1. 0. 0.]]\n",
      "[[0. 0. 1. 0.]\n",
      " [1. 0. 0. 0.]\n",
      " [0. 0. 1. 0.]\n",
      " [0. 1. 0. 0.]\n",
      " [0. 0. 1. 0.]]\n"
     ]
    }
   ],
   "source": [
    "from sklearn import preprocessing\n",
    "\n",
    "# 5. Transform the text labels into categorical labels\n",
    "\n",
    "mlb = preprocessing.LabelBinarizer()\n",
    "\n",
    "mlb.fit(resampled_train_df['emotion'])\n",
    "y_train = mlb.transform(resampled_train_df['emotion']).tolist()\n",
    "y_train = [list(map(float, label)) for label in y_train]\n",
    "y_train = np.array(y_train)\n",
    "\n",
    "mlb.fit(test_df['emotion'])\n",
    "y_test = mlb.transform(test_df['emotion']).tolist()\n",
    "y_test = [list(map(float, label)) for label in y_test]\n",
    "y_test = np.array(y_test)\n",
    "print(y_train[:5])\n",
    "print(y_test[:5])"
   ]
  },
  {
   "cell_type": "code",
   "execution_count": 59,
   "metadata": {
    "collapsed": false,
    "pycharm": {
     "name": "#%%\n"
    }
   },
   "outputs": [
    {
     "data": {
      "text/plain": [
       "array([[ 0.00000000e+00,  0.00000000e+00,  0.00000000e+00, ...,\n",
       "         0.00000000e+00,  0.00000000e+00,  0.00000000e+00],\n",
       "       [ 3.51319999e-01,  5.60840010e-04, -2.14880005e-01, ...,\n",
       "         3.66839990e-02, -3.72060016e-02,  8.53839993e-01],\n",
       "       [ 8.07669997e-01,  4.97860014e-01,  8.26959983e-02, ...,\n",
       "        -7.33020008e-02, -4.77849990e-01,  6.70589983e-01],\n",
       "       ...,\n",
       "       [-5.00129998e-01, -2.00700000e-01, -7.92289972e-01, ...,\n",
       "        -3.78219992e-01, -1.60530001e-01, -5.02719998e-01],\n",
       "       [ 1.65639997e-01, -2.62850001e-02,  4.78709996e-01, ...,\n",
       "        -1.90579996e-01,  1.69090003e-01, -2.64959991e-01],\n",
       "       [ 4.79299992e-01,  3.94309983e-02, -3.66769999e-01, ...,\n",
       "        -4.97170001e-01, -5.13169989e-02,  3.98630016e-02]])"
      ]
     },
     "execution_count": 59,
     "metadata": {},
     "output_type": "execute_result"
    }
   ],
   "source": [
    "# 6. Create word embeddings metrix\n",
    "gl_tw_200_EMBEDDING_DIM = glove_twitter_200_model.vector_size\n",
    "gl_tw_200_embedding_matrix = np.zeros((vocab_size, gl_tw_200_EMBEDDING_DIM))\n",
    "for word, i in tok.word_index.items():\n",
    "    embedding_vector = glove_twitter_200_model[i]\n",
    "    if embedding_vector is not None:\n",
    "        gl_tw_200_embedding_matrix[i] = embedding_vector\n",
    "gl_tw_200_embedding_matrix"
   ]
  },
  {
   "cell_type": "code",
   "execution_count": 60,
   "metadata": {
    "collapsed": false,
    "pycharm": {
     "name": "#%%\n"
    }
   },
   "outputs": [],
   "source": [
    "from keras.models import Sequential\n",
    "from keras.layers import Dense, Embedding, LSTM, Flatten, Activation\n",
    "from keras.initializers.initializers_v2 import Constant\n",
    "from keras.optimizers import Adam\n",
    "\n",
    "model = Sequential()\n",
    "model.add(\n",
    "    Embedding(input_dim=vocab_size, output_dim=gl_tw_200_EMBEDDING_DIM, input_length=34, trainable=False,\n",
    "              embeddings_initializer=Constant(gl_tw_200_embedding_matrix)))\n",
    "model.add(LSTM(units=64, return_sequences=False))\n",
    "model.add(Flatten())\n",
    "model.add(Dense(output_shape))\n",
    "model.add(Activation('softmax'))\n",
    "model.compile(optimizer=Adam(learning_rate=1e-2), loss='categorical_crossentropy', metrics=['Accuracy'])"
   ]
  },
  {
   "cell_type": "code",
   "execution_count": 61,
   "metadata": {
    "collapsed": false,
    "pycharm": {
     "name": "#%%\n"
    }
   },
   "outputs": [
    {
     "name": "stdout",
     "output_type": "stream",
     "text": [
      "Model: \"sequential\"\n",
      "_________________________________________________________________\n",
      " Layer (type)                Output Shape              Param #   \n",
      "=================================================================\n",
      " embedding (Embedding)       (None, 34, 200)           2312000   \n",
      "                                                                 \n",
      " lstm (LSTM)                 (None, 64)                67840     \n",
      "                                                                 \n",
      " flatten (Flatten)           (None, 64)                0         \n",
      "                                                                 \n",
      " dense_3 (Dense)             (None, 4)                 260       \n",
      "                                                                 \n",
      " activation (Activation)     (None, 4)                 0         \n",
      "                                                                 \n",
      "=================================================================\n",
      "Total params: 2,380,100\n",
      "Trainable params: 68,100\n",
      "Non-trainable params: 2,312,000\n",
      "_________________________________________________________________\n",
      "None\n"
     ]
    }
   ],
   "source": [
    "print(model.summary())"
   ]
  },
  {
   "cell_type": "code",
   "execution_count": 62,
   "metadata": {
    "collapsed": false,
    "pycharm": {
     "name": "#%%\n"
    }
   },
   "outputs": [
    {
     "name": "stdout",
     "output_type": "stream",
     "text": [
      "Epoch 1/25\n"
     ]
    },
    {
     "name": "stderr",
     "output_type": "stream",
     "text": [
      "2022-11-25 18:09:46.258029: I tensorflow/core/grappler/optimizers/custom_graph_optimizer_registry.cc:113] Plugin optimizer for device_type GPU is enabled.\n",
      "2022-11-25 18:09:46.488108: I tensorflow/core/grappler/optimizers/custom_graph_optimizer_registry.cc:113] Plugin optimizer for device_type GPU is enabled.\n",
      "2022-11-25 18:09:46.744330: I tensorflow/core/grappler/optimizers/custom_graph_optimizer_registry.cc:113] Plugin optimizer for device_type GPU is enabled.\n"
     ]
    },
    {
     "name": "stdout",
     "output_type": "stream",
     "text": [
      "144/144 [==============================] - ETA: 0s - loss: 1.3859 - Accuracy: 0.2663"
     ]
    },
    {
     "name": "stderr",
     "output_type": "stream",
     "text": [
      "2022-11-25 18:09:50.838413: I tensorflow/core/grappler/optimizers/custom_graph_optimizer_registry.cc:113] Plugin optimizer for device_type GPU is enabled.\n",
      "2022-11-25 18:09:50.915606: I tensorflow/core/grappler/optimizers/custom_graph_optimizer_registry.cc:113] Plugin optimizer for device_type GPU is enabled.\n"
     ]
    },
    {
     "name": "stdout",
     "output_type": "stream",
     "text": [
      "144/144 [==============================] - 6s 31ms/step - loss: 1.3859 - Accuracy: 0.2663 - val_loss: 1.4120 - val_Accuracy: 0.2248\n",
      "Epoch 2/25\n",
      "144/144 [==============================] - 3s 24ms/step - loss: 1.3841 - Accuracy: 0.2779 - val_loss: 1.3864 - val_Accuracy: 0.2565\n",
      "Epoch 3/25\n",
      "144/144 [==============================] - 3s 22ms/step - loss: 1.3186 - Accuracy: 0.3339 - val_loss: 1.3401 - val_Accuracy: 0.3170\n",
      "Epoch 4/25\n",
      "144/144 [==============================] - 3s 22ms/step - loss: 1.1642 - Accuracy: 0.4745 - val_loss: 1.3271 - val_Accuracy: 0.3804\n",
      "Epoch 5/25\n",
      "144/144 [==============================] - 3s 22ms/step - loss: 0.9583 - Accuracy: 0.6077 - val_loss: 1.3296 - val_Accuracy: 0.4207\n",
      "Epoch 6/25\n",
      "144/144 [==============================] - 3s 23ms/step - loss: 0.7907 - Accuracy: 0.6968 - val_loss: 1.4447 - val_Accuracy: 0.4121\n",
      "Epoch 7/25\n",
      "144/144 [==============================] - 3s 22ms/step - loss: 0.6476 - Accuracy: 0.7655 - val_loss: 1.4883 - val_Accuracy: 0.4524\n",
      "Epoch 8/25\n",
      "144/144 [==============================] - 4s 27ms/step - loss: 0.5368 - Accuracy: 0.8128 - val_loss: 1.7021 - val_Accuracy: 0.4352\n",
      "Epoch 9/25\n",
      "144/144 [==============================] - 4s 26ms/step - loss: 0.4739 - Accuracy: 0.8422 - val_loss: 1.7538 - val_Accuracy: 0.4035\n",
      "Epoch 10/25\n",
      "144/144 [==============================] - 4s 28ms/step - loss: 0.3678 - Accuracy: 0.8803 - val_loss: 1.8667 - val_Accuracy: 0.4409\n",
      "Epoch 11/25\n",
      "144/144 [==============================] - 3s 23ms/step - loss: 0.3718 - Accuracy: 0.8716 - val_loss: 1.8880 - val_Accuracy: 0.4323\n",
      "Epoch 12/25\n",
      "144/144 [==============================] - 4s 25ms/step - loss: 0.2975 - Accuracy: 0.9002 - val_loss: 1.9371 - val_Accuracy: 0.4207\n",
      "Epoch 13/25\n",
      "144/144 [==============================] - 4s 26ms/step - loss: 0.2685 - Accuracy: 0.9111 - val_loss: 1.8335 - val_Accuracy: 0.4524\n",
      "Epoch 14/25\n",
      "144/144 [==============================] - 3s 23ms/step - loss: 0.2410 - Accuracy: 0.9218 - val_loss: 2.0359 - val_Accuracy: 0.4755\n",
      "Epoch 15/25\n",
      "144/144 [==============================] - 4s 25ms/step - loss: 0.2287 - Accuracy: 0.9241 - val_loss: 2.2047 - val_Accuracy: 0.4553\n",
      "Epoch 16/25\n",
      "144/144 [==============================] - 3s 23ms/step - loss: 0.1943 - Accuracy: 0.9366 - val_loss: 2.3427 - val_Accuracy: 0.4496\n",
      "Epoch 17/25\n",
      "144/144 [==============================] - 3s 23ms/step - loss: 0.1817 - Accuracy: 0.9385 - val_loss: 2.2907 - val_Accuracy: 0.4553\n",
      "Epoch 18/25\n",
      "144/144 [==============================] - 3s 22ms/step - loss: 0.2087 - Accuracy: 0.9329 - val_loss: 2.2107 - val_Accuracy: 0.4352\n",
      "Epoch 19/25\n",
      "144/144 [==============================] - 3s 22ms/step - loss: 0.1539 - Accuracy: 0.9516 - val_loss: 2.3915 - val_Accuracy: 0.4438\n",
      "Epoch 20/25\n",
      "144/144 [==============================] - 3s 23ms/step - loss: 0.1503 - Accuracy: 0.9488 - val_loss: 2.5860 - val_Accuracy: 0.4611\n",
      "Epoch 21/25\n",
      "144/144 [==============================] - 3s 23ms/step - loss: 0.1427 - Accuracy: 0.9520 - val_loss: 2.4325 - val_Accuracy: 0.4409\n",
      "Epoch 22/25\n",
      "144/144 [==============================] - 3s 22ms/step - loss: 0.1145 - Accuracy: 0.9612 - val_loss: 2.6589 - val_Accuracy: 0.4409\n",
      "Epoch 23/25\n",
      "144/144 [==============================] - 3s 22ms/step - loss: 0.1262 - Accuracy: 0.9595 - val_loss: 2.3390 - val_Accuracy: 0.4841\n",
      "Epoch 24/25\n",
      "144/144 [==============================] - 3s 22ms/step - loss: 0.1550 - Accuracy: 0.9477 - val_loss: 2.5635 - val_Accuracy: 0.4524\n",
      "Epoch 25/25\n",
      "144/144 [==============================] - 3s 22ms/step - loss: 0.1219 - Accuracy: 0.9588 - val_loss: 2.8371 - val_Accuracy: 0.4669\n"
     ]
    }
   ],
   "source": [
    "history = model.fit(X_train, y_train, validation_data=(X_test, y_test), epochs=25, batch_size=32)"
   ]
  },
  {
   "cell_type": "code",
   "execution_count": 63,
   "metadata": {
    "collapsed": false,
    "pycharm": {
     "name": "#%%\n"
    }
   },
   "outputs": [
    {
     "data": {
      "text/plain": [
       "dict_keys(['loss', 'Accuracy', 'val_loss', 'val_Accuracy'])"
      ]
     },
     "execution_count": 63,
     "metadata": {},
     "output_type": "execute_result"
    }
   ],
   "source": [
    "history.history.keys()"
   ]
  },
  {
   "cell_type": "code",
   "execution_count": 64,
   "metadata": {
    "collapsed": false,
    "pycharm": {
     "name": "#%%\n"
    }
   },
   "outputs": [
    {
     "data": {
      "image/png": "[encoded data removed]",
      "text/plain": [
       "<Figure size 640x480 with 1 Axes>"
      ]
     },
     "metadata": {},
     "output_type": "display_data"
    },
    {
     "data": {
      "image/png": "[encoded data removed]",
      "text/plain": [
       "<Figure size 640x480 with 1 Axes>"
      ]
     },
     "metadata": {},
     "output_type": "display_data"
    }
   ],
   "source": [
    "plt.plot(history.history['loss'], label='Train Loss')\n",
    "plt.plot(history.history['val_loss'], label='Val Loss')\n",
    "plt.legend()\n",
    "plt.show()\n",
    "\n",
    "# accuracies\n",
    "plt.plot(history.history['Accuracy'], label='Train Accuracy')\n",
    "plt.plot(history.history['val_Accuracy'], label='Val Accuracy')\n",
    "plt.legend()\n",
    "plt.show()"
   ]
  },
  {
   "cell_type": "markdown",
   "metadata": {
    "collapsed": false,
    "pycharm": {
     "name": "#%% md\n"
    }
   },
   "source": [
    "### Result\n",
    "From this experiment, the result of this model isn't decent. The loss and accuracy scores are decreasing.\n",
    "\n",
    "The training data might need to be preprocessed before training like removing duplicated values, special characters, emojis,\n",
    "or even more advanced detect sacarsm features, which are the main bias for emotion recognition.\n",
    "\n",
    "Or the neural network might be apply bidirectional neural networks to make model understand more context from the end of the data."
   ]
  },
  {
   "cell_type": "markdown",
   "metadata": {
    "collapsed": false,
    "pycharm": {
     "name": "#%% md\n"
    }
   },
   "source": [
    "----"
   ]
  },
  {
   "cell_type": "markdown",
   "metadata": {
    "collapsed": false,
    "pycharm": {
     "name": "#%% md\n"
    }
   },
   "source": [
    "#### Exercise 8\n",
    "T-SNE Visualization of the 15 words most related to the words \"angry\", \"happy\", \"sad\", \"fear\""
   ]
  },
  {
   "cell_type": "code",
   "execution_count": 65,
   "metadata": {
    "collapsed": false,
    "pycharm": {
     "name": "#%%\n"
    }
   },
   "outputs": [
    {
     "name": "stdout",
     "output_type": "stream",
     "text": [
      "angry_words:  ['angry', 'birds', 'mad', 'annoyed', 'upset', 'frustrated', 'pissed', 'confused', 'stupid', 'bird', 'sometimes', 'annoying', 'cry', 'when', 'sad', 'because']\n",
      "happy_words:  ['happy', 'birthday', 'day', 'bday', 'wish', 'merry', 'love', 'year', 'you', 'hope', 'thank', 'enjoy', 'good', 'thanks', 'christmas', 'too']\n",
      "sad_words:  ['sad', 'depressing', 'really', 'depressed', 'sick', 'feel', 'cry', 'upset', 'bad', 'but', 'disappointed', 'kinda', 'how', 'tired', 'seriously', 'mad']\n",
      "fear_words:  ['fear', 'afraid', 'fears', 'faith', 'doubt', 'scared', 'without', 'death', 'failure', 'knowing', 'never', 'reason', 'n’t', 'pain', 'lack', 'cannot']\n",
      "\n",
      "target words: \n",
      "['angry', 'birds', 'mad', 'annoyed', 'upset', 'frustrated', 'pissed', 'confused', 'stupid', 'bird', 'sometimes', 'annoying', 'cry', 'when', 'sad', 'because', 'happy', 'birthday', 'day', 'bday', 'wish', 'merry', 'love', 'year', 'you', 'hope', 'thank', 'enjoy', 'good', 'thanks', 'christmas', 'too', 'sad', 'depressing', 'really', 'depressed', 'sick', 'feel', 'cry', 'upset', 'bad', 'but', 'disappointed', 'kinda', 'how', 'tired', 'seriously', 'mad', 'fear', 'afraid', 'fears', 'faith', 'doubt', 'scared', 'without', 'death', 'failure', 'knowing', 'never', 'reason', 'n’t', 'pain', 'lack', 'cannot']\n",
      "\n",
      "color list:\n",
      "['b', 'b', 'b', 'b', 'b', 'b', 'b', 'b', 'b', 'b', 'b', 'b', 'b', 'b', 'b', 'b', 'g', 'g', 'g', 'g', 'g', 'g', 'g', 'g', 'g', 'g', 'g', 'g', 'g', 'g', 'g', 'g', 'r', 'r', 'r', 'r', 'r', 'r', 'r', 'r', 'r', 'r', 'r', 'r', 'r', 'r', 'r', 'r', 'y', 'y', 'y', 'y', 'y', 'y', 'y', 'y', 'y', 'y', 'y', 'y', 'y', 'y', 'y', 'y']\n"
     ]
    }
   ],
   "source": [
    "# Answer here\n",
    "_angry = \"angry\"\n",
    "_happy = \"happy\"\n",
    "_sad = \"sad\"\n",
    "_fear = \"fear\"\n",
    "\n",
    "_topn = 15\n",
    "_angry_words = [_angry] + [word_ for word_, sim_ in glove_twitter_200_model.most_similar(_angry, topn=_topn)]\n",
    "_happy_words = [_happy] + [word_ for word_, sim_ in glove_twitter_200_model.most_similar(_happy, topn=_topn)]\n",
    "_sad_words = [_sad] + [word_ for word_, sim_ in glove_twitter_200_model.most_similar(_sad, topn=_topn)]\n",
    "_fear_words = [_fear] + [word_ for word_, sim_ in glove_twitter_200_model.most_similar(_fear, topn=_topn)]\n",
    "\n",
    "print('angry_words: ', _angry_words)\n",
    "print('happy_words: ', _happy_words)\n",
    "print('sad_words: ', _sad_words)\n",
    "print('fear_words: ', _fear_words)\n",
    "\n",
    "_target_words = _angry_words + _happy_words + _sad_words + _fear_words\n",
    "print('\\ntarget words: ')\n",
    "print(_target_words)\n",
    "\n",
    "print('\\ncolor list:')\n",
    "_cn = _topn + 1\n",
    "_color = ['b'] * _cn + ['g'] * _cn + ['r'] * _cn + ['y'] * _cn\n",
    "print(_color)"
   ]
  },
  {
   "cell_type": "code",
   "execution_count": 66,
   "metadata": {
    "collapsed": false,
    "pycharm": {
     "name": "#%%\n"
    }
   },
   "outputs": [
    {
     "data": {
      "image/png": "[encoded data removed]",
      "text/plain": [
       "<Figure size 1350x1350 with 1 Axes>"
      ]
     },
     "metadata": {},
     "output_type": "display_data"
    }
   ],
   "source": [
    "from sklearn.manifold import TSNE\n",
    "\n",
    "## prepare training word vectors\n",
    "_model = glove_twitter_200_model\n",
    "\n",
    "_size = 200\n",
    "_target_size = len(_target_words)\n",
    "_all_word = list(_model.index_to_key)\n",
    "_word_train = _target_words + _all_word[:_size]\n",
    "_X_train = _model[_word_train]\n",
    "\n",
    "## t-SNE model\n",
    "_tsne = TSNE(n_components=2, metric='cosine', random_state=28, n_iter = 1000)\n",
    "\n",
    "## training\n",
    "_X_tsne = _tsne.fit_transform(_X_train)\n",
    "\n",
    "## plot the result\n",
    "plt.figure(figsize=(10, 10), dpi=135)\n",
    "plt.scatter(_X_tsne[:_target_size, 0], _X_tsne[:_target_size, 1], c=_color)\n",
    "for label, x, y in zip(_target_words, _X_tsne[:_target_size, 0], _X_tsne[:_target_size, 1]):\n",
    "    plt.annotate(label, xy=(x, y), xytext=(0, 0), textcoords='offset points')\n",
    "plt.show()"
   ]
  },
  {
   "cell_type": "markdown",
   "metadata": {
    "collapsed": false,
    "pycharm": {
     "name": "#%% md\n"
    }
   },
   "source": [
    "#### T-SNE (t-distributed Stochastic Neighbor Embedding)\n",
    "T-SNE is a algorithm for visualizing the data that is captured in the sense that neighboring points in the input space will tend to be neighbors in the low dimensional space.\n",
    "Unlike PCA, t-SNE doesn't care how far the data points are. For some setting or data model might not provide a good visualization. As we can see from the plot above, `glove_twitter_200_model` doesn't provide a good cluttering result. Some clusters are mixing up with other clusters."
   ]
  },
  {
   "cell_type": "markdown",
   "metadata": {
    "collapsed": false,
    "pycharm": {
     "name": "#%% md\n"
    }
   },
   "source": [
    "----"
   ]
  },
  {
   "cell_type": "markdown",
   "metadata": {
    "collapsed": false,
    "pycharm": {
     "name": "#%% md\n"
    }
   },
   "source": []
  }
 ],
 "metadata": {
  "kernelspec": {
   "display_name": "Python 3.9 (tensorflow)",
   "language": "python",
   "name": "tensorflow"
  },
  "language_info": {
   "codemirror_mode": {
    "name": "ipython",
    "version": 3
   },
   "file_extension": ".py",
   "mimetype": "text/x-python",
   "name": "python",
   "nbconvert_exporter": "python",
   "pygments_lexer": "ipython3",
   "version": "3.9.13"
  },
  "varInspector": {
   "cols": {
    "lenName": 16,
    "lenType": 16,
    "lenVar": 40
   },
   "kernels_config": {
    "python": {
     "delete_cmd_postfix": "",
     "delete_cmd_prefix": "del ",
     "library": "var_list.py",
     "varRefreshCmd": "print(var_dic_list())"
    },
    "r": {
     "delete_cmd_postfix": ") ",
     "delete_cmd_prefix": "rm(",
     "library": "var_list.r",
     "varRefreshCmd": "cat(var_dic_list()) "
    }
   },
   "types_to_exclude": [
    "module",
    "function",
    "builtin_function_or_method",
    "instance",
    "_Feature"
   ],
   "window_display": false
  },
  "vscode": {
   "interpreter": {
    "hash": "51a7bfb0216ede7eddb7942c46ce6031f22420a85134ae4cc5d6e846832ce229"
   }
  }
 },
 "nbformat": 4,
 "nbformat_minor": 2
}