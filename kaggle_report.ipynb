{
 "cells": [
  {
   "cell_type": "markdown",
   "metadata": {},
   "source": [
    "### Student Information\n",
    "Name: Sarunyu Srisonthong\n",
    "\n",
    "Student ID: 110062428\n",
    "\n",
    "GitHub ID: SarunWu\n",
    "\n",
    "Kaggle name: Daxiiez\n",
    "\n",
    "Kaggle private scoreboard snapshot:\n",
    "\n",
    "![score_board](./img/best.png)"
   ]
  },
  {
   "cell_type": "markdown",
   "metadata": {},
   "source": [
    "\n",
    "# Kaggle competition\n",
    "## Outline\n",
    "1. Preprocessing\n",
    "    - f\n",
    "2. Exploratory Data Analysis (EDA)\n",
    "    - Find outliers\n",
    "    - \n",
    "3. Feature engineering\n",
    "4. Training Model \n",
    "5. Model Selection\n"
   ]
  },
  {
   "cell_type": "code",
   "execution_count": null,
   "metadata": {},
   "outputs": [],
   "source": [
    "# Import libraries\n",
    "import pandas as pd\n",
    "import helpers.data_mining_helpers as dmh"
   ]
  },
  {
   "cell_type": "markdown",
   "metadata": {},
   "source": [
    "### 1: Import collected tweets dataset"
   ]
  },
  {
   "cell_type": "code",
   "execution_count": null,
   "metadata": {},
   "outputs": [],
   "source": [
    "# data identification test & train data\n",
    "data_identification = pd.read_csv(\"data/emotion_tweet/data_identification.csv\")\n",
    "emotion = pd.read_csv(\"data/emotion_tweet/emotion.csv\")"
   ]
  },
  {
   "cell_type": "markdown",
   "metadata": {},
   "source": [
    "Because the training data is in json structure, we need to normalize (split it into seperate columns)"
   ]
  },
  {
   "cell_type": "code",
   "execution_count": null,
   "metadata": {},
   "outputs": [],
   "source": [
    "import json\n",
    "tweets_DM = pd.read_json(r'data/emotion_tweet/tweets_DM.json', lines=True, orient='columns')\n",
    "# normalize json data\n",
    "data = tweets_DM['_source'].tolist()\n",
    "df = pd.DataFrame.from_dict(pd.json_normalize(data), orient='columns')\n",
    "tweets_DM = pd.concat([tweets_DM, df], axis=1)"
   ]
  },
  {
   "cell_type": "markdown",
   "metadata": {},
   "source": [
    "To process efficiently, we compress size for saving memory space"
   ]
  },
  {
   "cell_type": "code",
   "execution_count": null,
   "metadata": {},
   "outputs": [],
   "source": [
    "def downcast(df, verbose=True):\n",
    "    start_mem = df.memory_usage().sum() / 1024**2\n",
    "    for col in df.columns:\n",
    "        dtype_name = df[col].dtype.name\n",
    "        if dtype_name == 'object':\n",
    "            pass\n",
    "        elif dtype_name == 'bool':\n",
    "            df[col] = df[col].astype('int8')\n",
    "        elif dtype_name.startswith('int') or (df[col].round() == df[col]).all():\n",
    "            df[col] = pd.to_numeric(df[col], downcast='integer')\n",
    "        else:\n",
    "            df[col] = pd.to_numeric(df[col], downcast='float')\n",
    "    end_mem = df.memory_usage().sum() / 1024**2\n",
    "    if verbose:\n",
    "        print('{:.1f}% Compressed'.format(100 * (start_mem - end_mem) / start_mem))\n",
    "    \n",
    "    return df"
   ]
  },
  {
   "cell_type": "code",
   "execution_count": null,
   "metadata": {},
   "outputs": [],
   "source": [
    "tweets_DM = downcast(tweets_DM)\n",
    "data_identification = downcast(data_identification)\n",
    "emotion = downcast(emotion)"
   ]
  },
  {
   "cell_type": "code",
   "execution_count": null,
   "metadata": {},
   "outputs": [],
   "source": [
    "data_identification.head()"
   ]
  },
  {
   "cell_type": "code",
   "execution_count": null,
   "metadata": {},
   "outputs": [],
   "source": [
    "# 1. rename column\n",
    "tweets_DM= tweets_DM.rename(columns={'tweet.tweet_id': 'id', 'tweet.text': 'text','tweet.hashtags':'hashtags'})\n",
    "\n",
    "# 2. drop unused columns\n",
    "tweets_DM=tweets_DM.drop(['_source','_index','_type','_score', '_crawldate','hashtags'], axis=1)\n",
    "data_identification= data_identification.rename(columns={'tweet_id': 'id'})\n",
    "emotion= emotion.rename(columns={'tweet_id': 'id'})\n",
    "\n",
    "# 3. put it in new dataframe\n",
    "tweet_df = tweets_DM"
   ]
  },
  {
   "cell_type": "code",
   "execution_count": null,
   "metadata": {},
   "outputs": [],
   "source": [
    "# Separating train and test set data\n",
    "\n",
    "# Train dataset\n",
    "train_data = data_identification[data_identification['identification'] == 'train']\n",
    "train_data = pd.merge(train_data, tweet_df,  how='left',\n",
    "                     left_on=['id'], right_on=['id'])\n",
    "train_data = pd.merge(train_data, emotion,  how='left',\n",
    "                     left_on=['id'], right_on=['id'])\n",
    "\n",
    "# Test dataset\n",
    "test_data = data_identification[data_identification['identification'] == 'test']\n",
    "test_data = pd.merge(test_data, tweet_df,  how='left',\n",
    "                    left_on=['id'], right_on=['id'])\n",
    "\n",
    "train_data.shape, test_data.shape"
   ]
  },
  {
   "cell_type": "code",
   "execution_count": null,
   "metadata": {},
   "outputs": [],
   "source": [
    "# shuffle dataset\n",
    "train_data = train_data.sample(frac=1)\n",
    "test_data = test_data.sample(frac=1)"
   ]
  },
  {
   "cell_type": "code",
   "execution_count": null,
   "metadata": {},
   "outputs": [],
   "source": [
    "# save data files\n",
    "train_data.to_pickle(\"uncleaned_train_data.pkl\")\n",
    "test_data.to_pickle(\"uncleaned_test_data.pkl\")"
   ]
  },
  {
   "cell_type": "code",
   "execution_count": 25,
   "metadata": {},
   "outputs": [],
   "source": [
    "# Continue working from saved files\n",
    "import pandas as pd\n",
    "\n",
    "train_data = pd.read_pickle(\"uncleaned_train_data.pkl\")\n",
    "test_data = pd.read_pickle(\"uncleaned_test_data.pkl\")"
   ]
  },
  {
   "cell_type": "code",
   "execution_count": 26,
   "metadata": {},
   "outputs": [
    {
     "data": {
      "text/html": [
       "<div>\n",
       "<style scoped>\n",
       "    .dataframe tbody tr th:only-of-type {\n",
       "        vertical-align: middle;\n",
       "    }\n",
       "\n",
       "    .dataframe tbody tr th {\n",
       "        vertical-align: top;\n",
       "    }\n",
       "\n",
       "    .dataframe thead th {\n",
       "        text-align: right;\n",
       "    }\n",
       "</style>\n",
       "<table border=\"1\" class=\"dataframe\">\n",
       "  <thead>\n",
       "    <tr style=\"text-align: right;\">\n",
       "      <th></th>\n",
       "      <th>id</th>\n",
       "      <th>identification</th>\n",
       "      <th>text</th>\n",
       "      <th>emotion</th>\n",
       "    </tr>\n",
       "  </thead>\n",
       "  <tbody>\n",
       "    <tr>\n",
       "      <th>0</th>\n",
       "      <td>The amoung of missing records is:</td>\n",
       "      <td>The amoung of missing records is:</td>\n",
       "      <td>The amoung of missing records is:</td>\n",
       "      <td>The amoung of missing records is:</td>\n",
       "    </tr>\n",
       "    <tr>\n",
       "      <th>1</th>\n",
       "      <td>0</td>\n",
       "      <td>0</td>\n",
       "      <td>0</td>\n",
       "      <td>0</td>\n",
       "    </tr>\n",
       "  </tbody>\n",
       "</table>\n",
       "</div>"
      ],
      "text/plain": [
       "                                   id                      identification  \\\n",
       "0  The amoung of missing records is:   The amoung of missing records is:    \n",
       "1                                   0                                   0   \n",
       "\n",
       "                                 text                             emotion  \n",
       "0  The amoung of missing records is:   The amoung of missing records is:   \n",
       "1                                   0                                   0  "
      ]
     },
     "execution_count": 26,
     "metadata": {},
     "output_type": "execute_result"
    }
   ],
   "source": [
    "# Check if there is missing values in both train and test dataset\n",
    "\n",
    "import helpers.data_mining_helpers as dmh\n",
    "train_data.isnull().apply(lambda x: dmh.check_missing_values(x))"
   ]
  },
  {
   "cell_type": "code",
   "execution_count": 27,
   "metadata": {},
   "outputs": [
    {
     "data": {
      "text/html": [
       "<div>\n",
       "<style scoped>\n",
       "    .dataframe tbody tr th:only-of-type {\n",
       "        vertical-align: middle;\n",
       "    }\n",
       "\n",
       "    .dataframe tbody tr th {\n",
       "        vertical-align: top;\n",
       "    }\n",
       "\n",
       "    .dataframe thead th {\n",
       "        text-align: right;\n",
       "    }\n",
       "</style>\n",
       "<table border=\"1\" class=\"dataframe\">\n",
       "  <thead>\n",
       "    <tr style=\"text-align: right;\">\n",
       "      <th></th>\n",
       "      <th>id</th>\n",
       "      <th>identification</th>\n",
       "      <th>text</th>\n",
       "    </tr>\n",
       "  </thead>\n",
       "  <tbody>\n",
       "    <tr>\n",
       "      <th>0</th>\n",
       "      <td>The amoung of missing records is:</td>\n",
       "      <td>The amoung of missing records is:</td>\n",
       "      <td>The amoung of missing records is:</td>\n",
       "    </tr>\n",
       "    <tr>\n",
       "      <th>1</th>\n",
       "      <td>0</td>\n",
       "      <td>0</td>\n",
       "      <td>0</td>\n",
       "    </tr>\n",
       "  </tbody>\n",
       "</table>\n",
       "</div>"
      ],
      "text/plain": [
       "                                   id                      identification  \\\n",
       "0  The amoung of missing records is:   The amoung of missing records is:    \n",
       "1                                   0                                   0   \n",
       "\n",
       "                                 text  \n",
       "0  The amoung of missing records is:   \n",
       "1                                   0  "
      ]
     },
     "execution_count": 27,
     "metadata": {},
     "output_type": "execute_result"
    }
   ],
   "source": [
    "test_data.isnull().apply(lambda x: dmh.check_missing_values(x))"
   ]
  },
  {
   "cell_type": "code",
   "execution_count": 28,
   "metadata": {},
   "outputs": [
    {
     "data": {
      "text/html": [
       "<div>\n",
       "<style scoped>\n",
       "    .dataframe tbody tr th:only-of-type {\n",
       "        vertical-align: middle;\n",
       "    }\n",
       "\n",
       "    .dataframe tbody tr th {\n",
       "        vertical-align: top;\n",
       "    }\n",
       "\n",
       "    .dataframe thead th {\n",
       "        text-align: right;\n",
       "    }\n",
       "</style>\n",
       "<table border=\"1\" class=\"dataframe\">\n",
       "  <thead>\n",
       "    <tr style=\"text-align: right;\">\n",
       "      <th></th>\n",
       "      <th>id</th>\n",
       "      <th>identification</th>\n",
       "      <th>text</th>\n",
       "      <th>length</th>\n",
       "      <th>count</th>\n",
       "    </tr>\n",
       "  </thead>\n",
       "  <tbody>\n",
       "    <tr>\n",
       "      <th>226319</th>\n",
       "      <td>0x350ee7</td>\n",
       "      <td>test</td>\n",
       "      <td>@fifty_two___ @loubielou32 It wasn’t literal -...</td>\n",
       "      <td>134</td>\n",
       "      <td>21</td>\n",
       "    </tr>\n",
       "    <tr>\n",
       "      <th>94959</th>\n",
       "      <td>0x1cc41b</td>\n",
       "      <td>test</td>\n",
       "      <td>My god it's so annoying when guys call you bab...</td>\n",
       "      <td>138</td>\n",
       "      <td>25</td>\n",
       "    </tr>\n",
       "    <tr>\n",
       "      <th>310262</th>\n",
       "      <td>0x2dde0d</td>\n",
       "      <td>test</td>\n",
       "      <td>Color me surprised .. The radio is Rocking Out...</td>\n",
       "      <td>94</td>\n",
       "      <td>16</td>\n",
       "    </tr>\n",
       "    <tr>\n",
       "      <th>23608</th>\n",
       "      <td>0x343d18</td>\n",
       "      <td>test</td>\n",
       "      <td>More thunderstorms today... UGH! #rainraingoaw...</td>\n",
       "      <td>72</td>\n",
       "      <td>8</td>\n",
       "    </tr>\n",
       "    <tr>\n",
       "      <th>297538</th>\n",
       "      <td>0x285e33</td>\n",
       "      <td>test</td>\n",
       "      <td>So happy to have a bf that will take good pict...</td>\n",
       "      <td>78</td>\n",
       "      <td>17</td>\n",
       "    </tr>\n",
       "  </tbody>\n",
       "</table>\n",
       "</div>"
      ],
      "text/plain": [
       "              id identification  \\\n",
       "226319  0x350ee7           test   \n",
       "94959   0x1cc41b           test   \n",
       "310262  0x2dde0d           test   \n",
       "23608   0x343d18           test   \n",
       "297538  0x285e33           test   \n",
       "\n",
       "                                                     text  length  count  \n",
       "226319  @fifty_two___ @loubielou32 It wasn’t literal -...     134     21  \n",
       "94959   My god it's so annoying when guys call you bab...     138     25  \n",
       "310262  Color me surprised .. The radio is Rocking Out...      94     16  \n",
       "23608   More thunderstorms today... UGH! #rainraingoaw...      72      8  \n",
       "297538  So happy to have a bf that will take good pict...      78     17  "
      ]
     },
     "execution_count": 28,
     "metadata": {},
     "output_type": "execute_result"
    }
   ],
   "source": [
    "# Count sentence length and words\n",
    "\n",
    "train_data['length'] = [len(t) for t in train_data['text']]\n",
    "train_data['count'] = train_data['text'].apply(lambda x: len(str(x).split(\" \")))\n",
    "\n",
    "test_data['length'] = [len(t) for t in test_data['text']]\n",
    "test_data['count'] = test_data['text'].apply(lambda x: len(str(x).split(\" \")))\n",
    "\n",
    "test_data.head()"
   ]
  },
  {
   "cell_type": "code",
   "execution_count": 29,
   "metadata": {},
   "outputs": [],
   "source": [
    "from helpers.emotion_dict import demoticon, replace_con_slang\n",
    "from helpers.text_analysis import cleaning_text\n"
   ]
  },
  {
   "cell_type": "code",
   "execution_count": 30,
   "metadata": {},
   "outputs": [
    {
     "name": "stdout",
     "output_type": "stream",
     "text": [
      "CPU times: user 5.47 s, sys: 71.9 ms, total: 5.55 s\n",
      "Wall time: 5.58 s\n"
     ]
    },
    {
     "data": {
      "text/html": [
       "<div>\n",
       "<style scoped>\n",
       "    .dataframe tbody tr th:only-of-type {\n",
       "        vertical-align: middle;\n",
       "    }\n",
       "\n",
       "    .dataframe tbody tr th {\n",
       "        vertical-align: top;\n",
       "    }\n",
       "\n",
       "    .dataframe thead th {\n",
       "        text-align: right;\n",
       "    }\n",
       "</style>\n",
       "<table border=\"1\" class=\"dataframe\">\n",
       "  <thead>\n",
       "    <tr style=\"text-align: right;\">\n",
       "      <th></th>\n",
       "      <th>id</th>\n",
       "      <th>identification</th>\n",
       "      <th>text</th>\n",
       "      <th>emotion</th>\n",
       "      <th>length</th>\n",
       "      <th>count</th>\n",
       "      <th>cleantext</th>\n",
       "    </tr>\n",
       "  </thead>\n",
       "  <tbody>\n",
       "    <tr>\n",
       "      <th>583292</th>\n",
       "      <td>0x2b6005</td>\n",
       "      <td>train</td>\n",
       "      <td>&lt;LH&gt; bikin rv x bts kuy -lead rv</td>\n",
       "      <td>anticipation</td>\n",
       "      <td>32</td>\n",
       "      <td>8</td>\n",
       "      <td>&lt;LH&gt; bikin rv x bts kuy -lead rv</td>\n",
       "    </tr>\n",
       "    <tr>\n",
       "      <th>1152023</th>\n",
       "      <td>0x35a043</td>\n",
       "      <td>train</td>\n",
       "      <td>Wtf I’m so emotional Ed’s MV is so &lt;LH&gt;</td>\n",
       "      <td>joy</td>\n",
       "      <td>39</td>\n",
       "      <td>9</td>\n",
       "      <td>Wtf I'm so emotional Ed's MV is so &lt;LH&gt;</td>\n",
       "    </tr>\n",
       "    <tr>\n",
       "      <th>1428044</th>\n",
       "      <td>0x2e0dbd</td>\n",
       "      <td>train</td>\n",
       "      <td>Who is watching #IUFb v. Ohio State? Let's kee...</td>\n",
       "      <td>trust</td>\n",
       "      <td>87</td>\n",
       "      <td>15</td>\n",
       "      <td>Who is watching #IUFb v. Ohio State? Let's kee...</td>\n",
       "    </tr>\n",
       "    <tr>\n",
       "      <th>484526</th>\n",
       "      <td>0x20af4e</td>\n",
       "      <td>train</td>\n",
       "      <td>Count your blessings, not your problems... 💜 &lt;LH&gt;</td>\n",
       "      <td>joy</td>\n",
       "      <td>49</td>\n",
       "      <td>8</td>\n",
       "      <td>Count your blessings, not your problems... 💜 &lt;LH&gt;</td>\n",
       "    </tr>\n",
       "    <tr>\n",
       "      <th>880761</th>\n",
       "      <td>0x20b6ff</td>\n",
       "      <td>train</td>\n",
       "      <td>@JackPosobiec @paphotog more &lt;LH&gt; eyes</td>\n",
       "      <td>surprise</td>\n",
       "      <td>38</td>\n",
       "      <td>5</td>\n",
       "      <td>@JackPosobiec @paphotog more &lt;LH&gt; eyes</td>\n",
       "    </tr>\n",
       "  </tbody>\n",
       "</table>\n",
       "</div>"
      ],
      "text/plain": [
       "               id identification  \\\n",
       "583292   0x2b6005          train   \n",
       "1152023  0x35a043          train   \n",
       "1428044  0x2e0dbd          train   \n",
       "484526   0x20af4e          train   \n",
       "880761   0x20b6ff          train   \n",
       "\n",
       "                                                      text       emotion  \\\n",
       "583292                    <LH> bikin rv x bts kuy -lead rv  anticipation   \n",
       "1152023            Wtf I’m so emotional Ed’s MV is so <LH>           joy   \n",
       "1428044  Who is watching #IUFb v. Ohio State? Let's kee...         trust   \n",
       "484526   Count your blessings, not your problems... 💜 <LH>           joy   \n",
       "880761              @JackPosobiec @paphotog more <LH> eyes      surprise   \n",
       "\n",
       "         length  count                                          cleantext  \n",
       "583292       32      8                   <LH> bikin rv x bts kuy -lead rv  \n",
       "1152023      39      9            Wtf I'm so emotional Ed's MV is so <LH>  \n",
       "1428044      87     15  Who is watching #IUFb v. Ohio State? Let's kee...  \n",
       "484526       49      8  Count your blessings, not your problems... 💜 <LH>  \n",
       "880761       38      5             @JackPosobiec @paphotog more <LH> eyes  "
      ]
     },
     "execution_count": 30,
     "metadata": {},
     "output_type": "execute_result"
    }
   ],
   "source": [
    "%%time\n",
    "# preprocessing 1\n",
    "# convert emoticon like (':)') into word (smiley)\n",
    "train_data['cleantext'] = train_data['text'].apply(lambda x: demoticon(x))\n",
    "test_data['cleantext'] = test_data['text'].apply(lambda x: demoticon(x))\n",
    "train_data.head()"
   ]
  },
  {
   "cell_type": "code",
   "execution_count": 31,
   "metadata": {},
   "outputs": [
    {
     "name": "stdout",
     "output_type": "stream",
     "text": [
      "CPU times: user 31.8 s, sys: 137 ms, total: 31.9 s\n",
      "Wall time: 32.5 s\n"
     ]
    },
    {
     "data": {
      "text/html": [
       "<div>\n",
       "<style scoped>\n",
       "    .dataframe tbody tr th:only-of-type {\n",
       "        vertical-align: middle;\n",
       "    }\n",
       "\n",
       "    .dataframe tbody tr th {\n",
       "        vertical-align: top;\n",
       "    }\n",
       "\n",
       "    .dataframe thead th {\n",
       "        text-align: right;\n",
       "    }\n",
       "</style>\n",
       "<table border=\"1\" class=\"dataframe\">\n",
       "  <thead>\n",
       "    <tr style=\"text-align: right;\">\n",
       "      <th></th>\n",
       "      <th>id</th>\n",
       "      <th>identification</th>\n",
       "      <th>text</th>\n",
       "      <th>emotion</th>\n",
       "      <th>length</th>\n",
       "      <th>count</th>\n",
       "      <th>cleantext</th>\n",
       "    </tr>\n",
       "  </thead>\n",
       "  <tbody>\n",
       "    <tr>\n",
       "      <th>583292</th>\n",
       "      <td>0x2b6005</td>\n",
       "      <td>train</td>\n",
       "      <td>&lt;LH&gt; bikin rv x bts kuy -lead rv</td>\n",
       "      <td>anticipation</td>\n",
       "      <td>32</td>\n",
       "      <td>8</td>\n",
       "      <td>bikin rv x bts kuy lead rv</td>\n",
       "    </tr>\n",
       "    <tr>\n",
       "      <th>1152023</th>\n",
       "      <td>0x35a043</td>\n",
       "      <td>train</td>\n",
       "      <td>Wtf I’m so emotional Ed’s MV is so &lt;LH&gt;</td>\n",
       "      <td>joy</td>\n",
       "      <td>39</td>\n",
       "      <td>9</td>\n",
       "      <td>wtf i'm so emotional ed's mv is so</td>\n",
       "    </tr>\n",
       "    <tr>\n",
       "      <th>1428044</th>\n",
       "      <td>0x2e0dbd</td>\n",
       "      <td>train</td>\n",
       "      <td>Who is watching #IUFb v. Ohio State? Let's kee...</td>\n",
       "      <td>trust</td>\n",
       "      <td>87</td>\n",
       "      <td>15</td>\n",
       "      <td>who is watching iufb v ohio state let's keep t...</td>\n",
       "    </tr>\n",
       "    <tr>\n",
       "      <th>484526</th>\n",
       "      <td>0x20af4e</td>\n",
       "      <td>train</td>\n",
       "      <td>Count your blessings, not your problems... 💜 &lt;LH&gt;</td>\n",
       "      <td>joy</td>\n",
       "      <td>49</td>\n",
       "      <td>8</td>\n",
       "      <td>count your blessings not your problems 💜</td>\n",
       "    </tr>\n",
       "    <tr>\n",
       "      <th>880761</th>\n",
       "      <td>0x20b6ff</td>\n",
       "      <td>train</td>\n",
       "      <td>@JackPosobiec @paphotog more &lt;LH&gt; eyes</td>\n",
       "      <td>surprise</td>\n",
       "      <td>38</td>\n",
       "      <td>5</td>\n",
       "      <td>more  eyes</td>\n",
       "    </tr>\n",
       "  </tbody>\n",
       "</table>\n",
       "</div>"
      ],
      "text/plain": [
       "               id identification  \\\n",
       "583292   0x2b6005          train   \n",
       "1152023  0x35a043          train   \n",
       "1428044  0x2e0dbd          train   \n",
       "484526   0x20af4e          train   \n",
       "880761   0x20b6ff          train   \n",
       "\n",
       "                                                      text       emotion  \\\n",
       "583292                    <LH> bikin rv x bts kuy -lead rv  anticipation   \n",
       "1152023            Wtf I’m so emotional Ed’s MV is so <LH>           joy   \n",
       "1428044  Who is watching #IUFb v. Ohio State? Let's kee...         trust   \n",
       "484526   Count your blessings, not your problems... 💜 <LH>           joy   \n",
       "880761              @JackPosobiec @paphotog more <LH> eyes      surprise   \n",
       "\n",
       "         length  count                                          cleantext  \n",
       "583292       32      8                         bikin rv x bts kuy lead rv  \n",
       "1152023      39      9                wtf i'm so emotional ed's mv is so   \n",
       "1428044      87     15  who is watching iufb v ohio state let's keep t...  \n",
       "484526       49      8          count your blessings not your problems 💜   \n",
       "880761       38      5                                         more  eyes  "
      ]
     },
     "execution_count": 31,
     "metadata": {},
     "output_type": "execute_result"
    }
   ],
   "source": [
    "%%time\n",
    "# preprocessing 2\n",
    "# remove noisy words\n",
    "# 1. urls\n",
    "# 2. whitespace\n",
    "# 3. mentions\n",
    "# 4. hashtags\n",
    "# 5. html tags\n",
    "# 6. multiple letters\n",
    "# 7. To lowercase letters\n",
    "# 8. symbols\n",
    "\n",
    "train_data['cleantext'] = train_data['cleantext'].apply(lambda x: cleaning_text(x))\n",
    "test_data['cleantext'] = test_data['cleantext'].apply(lambda x: cleaning_text(x))\n",
    "train_data.head()"
   ]
  },
  {
   "cell_type": "code",
   "execution_count": 32,
   "metadata": {},
   "outputs": [
    {
     "name": "stdout",
     "output_type": "stream",
     "text": [
      "CPU times: user 16.5 s, sys: 65.3 ms, total: 16.6 s\n",
      "Wall time: 16.6 s\n"
     ]
    },
    {
     "data": {
      "text/html": [
       "<div>\n",
       "<style scoped>\n",
       "    .dataframe tbody tr th:only-of-type {\n",
       "        vertical-align: middle;\n",
       "    }\n",
       "\n",
       "    .dataframe tbody tr th {\n",
       "        vertical-align: top;\n",
       "    }\n",
       "\n",
       "    .dataframe thead th {\n",
       "        text-align: right;\n",
       "    }\n",
       "</style>\n",
       "<table border=\"1\" class=\"dataframe\">\n",
       "  <thead>\n",
       "    <tr style=\"text-align: right;\">\n",
       "      <th></th>\n",
       "      <th>id</th>\n",
       "      <th>identification</th>\n",
       "      <th>text</th>\n",
       "      <th>emotion</th>\n",
       "      <th>length</th>\n",
       "      <th>count</th>\n",
       "      <th>cleantext</th>\n",
       "    </tr>\n",
       "  </thead>\n",
       "  <tbody>\n",
       "    <tr>\n",
       "      <th>583292</th>\n",
       "      <td>0x2b6005</td>\n",
       "      <td>train</td>\n",
       "      <td>&lt;LH&gt; bikin rv x bts kuy -lead rv</td>\n",
       "      <td>anticipation</td>\n",
       "      <td>32</td>\n",
       "      <td>8</td>\n",
       "      <td>bikin rv kiss bts kuy lead rv</td>\n",
       "    </tr>\n",
       "    <tr>\n",
       "      <th>1152023</th>\n",
       "      <td>0x35a043</td>\n",
       "      <td>train</td>\n",
       "      <td>Wtf I’m so emotional Ed’s MV is so &lt;LH&gt;</td>\n",
       "      <td>joy</td>\n",
       "      <td>39</td>\n",
       "      <td>9</td>\n",
       "      <td>what the fuck im so emotional eds mv is so</td>\n",
       "    </tr>\n",
       "    <tr>\n",
       "      <th>1428044</th>\n",
       "      <td>0x2e0dbd</td>\n",
       "      <td>train</td>\n",
       "      <td>Who is watching #IUFb v. Ohio State? Let's kee...</td>\n",
       "      <td>trust</td>\n",
       "      <td>87</td>\n",
       "      <td>15</td>\n",
       "      <td>who is watching iufb v ohio state let us keep ...</td>\n",
       "    </tr>\n",
       "    <tr>\n",
       "      <th>484526</th>\n",
       "      <td>0x20af4e</td>\n",
       "      <td>train</td>\n",
       "      <td>Count your blessings, not your problems... 💜 &lt;LH&gt;</td>\n",
       "      <td>joy</td>\n",
       "      <td>49</td>\n",
       "      <td>8</td>\n",
       "      <td>count your blessings not your problems</td>\n",
       "    </tr>\n",
       "    <tr>\n",
       "      <th>880761</th>\n",
       "      <td>0x20b6ff</td>\n",
       "      <td>train</td>\n",
       "      <td>@JackPosobiec @paphotog more &lt;LH&gt; eyes</td>\n",
       "      <td>surprise</td>\n",
       "      <td>38</td>\n",
       "      <td>5</td>\n",
       "      <td>more eyes</td>\n",
       "    </tr>\n",
       "  </tbody>\n",
       "</table>\n",
       "</div>"
      ],
      "text/plain": [
       "               id identification  \\\n",
       "583292   0x2b6005          train   \n",
       "1152023  0x35a043          train   \n",
       "1428044  0x2e0dbd          train   \n",
       "484526   0x20af4e          train   \n",
       "880761   0x20b6ff          train   \n",
       "\n",
       "                                                      text       emotion  \\\n",
       "583292                    <LH> bikin rv x bts kuy -lead rv  anticipation   \n",
       "1152023            Wtf I’m so emotional Ed’s MV is so <LH>           joy   \n",
       "1428044  Who is watching #IUFb v. Ohio State? Let's kee...         trust   \n",
       "484526   Count your blessings, not your problems... 💜 <LH>           joy   \n",
       "880761              @JackPosobiec @paphotog more <LH> eyes      surprise   \n",
       "\n",
       "         length  count                                          cleantext  \n",
       "583292       32      8                      bikin rv kiss bts kuy lead rv  \n",
       "1152023      39      9         what the fuck im so emotional eds mv is so  \n",
       "1428044      87     15  who is watching iufb v ohio state let us keep ...  \n",
       "484526       49      8            count your blessings not your problems   \n",
       "880761       38      5                                          more eyes  "
      ]
     },
     "execution_count": 32,
     "metadata": {},
     "output_type": "execute_result"
    }
   ],
   "source": [
    "%%time\n",
    "# preprocessing 3\n",
    "# convert emoticon like (':)') into word (smiley)\n",
    "train_data['cleantext'] = train_data['cleantext'].apply(lambda x: replace_con_slang(x))\n",
    "test_data['cleantext'] = test_data['cleantext'].apply(lambda x: replace_con_slang(x))\n",
    "train_data.head()"
   ]
  },
  {
   "cell_type": "code",
   "execution_count": 33,
   "metadata": {},
   "outputs": [
    {
     "data": {
      "text/html": [
       "<div>\n",
       "<style scoped>\n",
       "    .dataframe tbody tr th:only-of-type {\n",
       "        vertical-align: middle;\n",
       "    }\n",
       "\n",
       "    .dataframe tbody tr th {\n",
       "        vertical-align: top;\n",
       "    }\n",
       "\n",
       "    .dataframe thead th {\n",
       "        text-align: right;\n",
       "    }\n",
       "</style>\n",
       "<table border=\"1\" class=\"dataframe\">\n",
       "  <thead>\n",
       "    <tr style=\"text-align: right;\">\n",
       "      <th></th>\n",
       "      <th>id</th>\n",
       "      <th>identification</th>\n",
       "      <th>text</th>\n",
       "      <th>emotion</th>\n",
       "      <th>length</th>\n",
       "      <th>count</th>\n",
       "      <th>cleantext</th>\n",
       "      <th>processed_text_length</th>\n",
       "      <th>processed_word_length</th>\n",
       "    </tr>\n",
       "  </thead>\n",
       "  <tbody>\n",
       "    <tr>\n",
       "      <th>583292</th>\n",
       "      <td>0x2b6005</td>\n",
       "      <td>train</td>\n",
       "      <td>&lt;LH&gt; bikin rv x bts kuy -lead rv</td>\n",
       "      <td>anticipation</td>\n",
       "      <td>32</td>\n",
       "      <td>8</td>\n",
       "      <td>bikin rv kiss bts kuy lead rv</td>\n",
       "      <td>29</td>\n",
       "      <td>7</td>\n",
       "    </tr>\n",
       "    <tr>\n",
       "      <th>1152023</th>\n",
       "      <td>0x35a043</td>\n",
       "      <td>train</td>\n",
       "      <td>Wtf I’m so emotional Ed’s MV is so &lt;LH&gt;</td>\n",
       "      <td>joy</td>\n",
       "      <td>39</td>\n",
       "      <td>9</td>\n",
       "      <td>what the fuck im so emotional eds mv is so</td>\n",
       "      <td>42</td>\n",
       "      <td>10</td>\n",
       "    </tr>\n",
       "    <tr>\n",
       "      <th>1428044</th>\n",
       "      <td>0x2e0dbd</td>\n",
       "      <td>train</td>\n",
       "      <td>Who is watching #IUFb v. Ohio State? Let's kee...</td>\n",
       "      <td>trust</td>\n",
       "      <td>87</td>\n",
       "      <td>15</td>\n",
       "      <td>who is watching iufb v ohio state let us keep ...</td>\n",
       "      <td>77</td>\n",
       "      <td>15</td>\n",
       "    </tr>\n",
       "    <tr>\n",
       "      <th>484526</th>\n",
       "      <td>0x20af4e</td>\n",
       "      <td>train</td>\n",
       "      <td>Count your blessings, not your problems... 💜 &lt;LH&gt;</td>\n",
       "      <td>joy</td>\n",
       "      <td>49</td>\n",
       "      <td>8</td>\n",
       "      <td>count your blessings not your problems</td>\n",
       "      <td>39</td>\n",
       "      <td>7</td>\n",
       "    </tr>\n",
       "    <tr>\n",
       "      <th>880761</th>\n",
       "      <td>0x20b6ff</td>\n",
       "      <td>train</td>\n",
       "      <td>@JackPosobiec @paphotog more &lt;LH&gt; eyes</td>\n",
       "      <td>surprise</td>\n",
       "      <td>38</td>\n",
       "      <td>5</td>\n",
       "      <td>more eyes</td>\n",
       "      <td>9</td>\n",
       "      <td>2</td>\n",
       "    </tr>\n",
       "  </tbody>\n",
       "</table>\n",
       "</div>"
      ],
      "text/plain": [
       "               id identification  \\\n",
       "583292   0x2b6005          train   \n",
       "1152023  0x35a043          train   \n",
       "1428044  0x2e0dbd          train   \n",
       "484526   0x20af4e          train   \n",
       "880761   0x20b6ff          train   \n",
       "\n",
       "                                                      text       emotion  \\\n",
       "583292                    <LH> bikin rv x bts kuy -lead rv  anticipation   \n",
       "1152023            Wtf I’m so emotional Ed’s MV is so <LH>           joy   \n",
       "1428044  Who is watching #IUFb v. Ohio State? Let's kee...         trust   \n",
       "484526   Count your blessings, not your problems... 💜 <LH>           joy   \n",
       "880761              @JackPosobiec @paphotog more <LH> eyes      surprise   \n",
       "\n",
       "         length  count                                          cleantext  \\\n",
       "583292       32      8                      bikin rv kiss bts kuy lead rv   \n",
       "1152023      39      9         what the fuck im so emotional eds mv is so   \n",
       "1428044      87     15  who is watching iufb v ohio state let us keep ...   \n",
       "484526       49      8            count your blessings not your problems    \n",
       "880761       38      5                                          more eyes   \n",
       "\n",
       "         processed_text_length  processed_word_length  \n",
       "583292                      29                      7  \n",
       "1152023                     42                     10  \n",
       "1428044                     77                     15  \n",
       "484526                      39                      7  \n",
       "880761                       9                      2  "
      ]
     },
     "execution_count": 33,
     "metadata": {},
     "output_type": "execute_result"
    }
   ],
   "source": [
    "train_data['processed_text_length'] = [len(t) for t in train_data['cleantext']]\n",
    "test_data['processed_text_length'] = [len(t) for t in test_data['cleantext']]\n",
    "\n",
    "train_data['processed_word_length'] = train_data['cleantext'].apply(lambda x: len(str(x).split(\" \")))\n",
    "test_data['processed_word_length'] = test_data['cleantext'].apply(lambda x: len(str(x).split(\" \")))\n",
    "train_data.head()"
   ]
  },
  {
   "cell_type": "code",
   "execution_count": 34,
   "metadata": {},
   "outputs": [
    {
     "data": {
      "text/html": [
       "<div>\n",
       "<style scoped>\n",
       "    .dataframe tbody tr th:only-of-type {\n",
       "        vertical-align: middle;\n",
       "    }\n",
       "\n",
       "    .dataframe tbody tr th {\n",
       "        vertical-align: top;\n",
       "    }\n",
       "\n",
       "    .dataframe thead th {\n",
       "        text-align: right;\n",
       "    }\n",
       "</style>\n",
       "<table border=\"1\" class=\"dataframe\">\n",
       "  <thead>\n",
       "    <tr style=\"text-align: right;\">\n",
       "      <th></th>\n",
       "      <th>id</th>\n",
       "      <th>identification</th>\n",
       "      <th>text</th>\n",
       "      <th>emotion</th>\n",
       "      <th>length</th>\n",
       "      <th>count</th>\n",
       "      <th>cleantext</th>\n",
       "      <th>processed_text_length</th>\n",
       "      <th>processed_word_length</th>\n",
       "    </tr>\n",
       "  </thead>\n",
       "  <tbody>\n",
       "  </tbody>\n",
       "</table>\n",
       "</div>"
      ],
      "text/plain": [
       "Empty DataFrame\n",
       "Columns: [id, identification, text, emotion, length, count, cleantext, processed_text_length, processed_word_length]\n",
       "Index: []"
      ]
     },
     "execution_count": 34,
     "metadata": {},
     "output_type": "execute_result"
    }
   ],
   "source": [
    "train_data[train_data.isna().any(axis=1)]"
   ]
  },
  {
   "cell_type": "code",
   "execution_count": 35,
   "metadata": {},
   "outputs": [],
   "source": [
    "train_data.drop_duplicates('cleantext', keep='first', inplace=True)"
   ]
  },
  {
   "cell_type": "code",
   "execution_count": 36,
   "metadata": {},
   "outputs": [],
   "source": [
    "train_data.to_pickle(\"cleaned_train_data.pkl\")\n",
    "test_data.to_pickle(\"cleaned_test_data.pkl\")"
   ]
  },
  {
   "cell_type": "code",
   "execution_count": 37,
   "metadata": {},
   "outputs": [
    {
     "data": {
      "text/plain": [
       "('train_data', (1335274, 9), 'test_data', (411972, 8))"
      ]
     },
     "execution_count": 37,
     "metadata": {},
     "output_type": "execute_result"
    }
   ],
   "source": [
    "import pandas as pd\n",
    "\n",
    "train_data = pd.read_pickle(\"cleaned_train_data.pkl\")\n",
    "test_data = pd.read_pickle(\"cleaned_test_data.pkl\")\n",
    "\n",
    "\"train_data\", train_data.shape, \"test_data\", test_data.shape"
   ]
  },
  {
   "cell_type": "markdown",
   "metadata": {},
   "source": [
    "### Using fasttext library to identify language of the sentences"
   ]
  },
  {
   "cell_type": "code",
   "execution_count": 38,
   "metadata": {},
   "outputs": [
    {
     "name": "stderr",
     "output_type": "stream",
     "text": [
      "Warning : `load_model` does not return WordVectorModel or SupervisedModel any more, but a `FastText` object which is very similar.\n"
     ]
    }
   ],
   "source": [
    "import fasttext\n",
    "\n",
    "pretrained_model = \"fasttext/lid.176.bin\"\n",
    "model = fasttext.load_model(pretrained_model)"
   ]
  },
  {
   "cell_type": "code",
   "execution_count": 39,
   "metadata": {},
   "outputs": [],
   "source": [
    "\n",
    "langs = []\n",
    "for sentence in train_data['cleantext']:\n",
    "    lang = model.predict(sentence)[0]\n",
    "    langs.append(str(lang[0]))\n",
    "train_data['langs'] = langs"
   ]
  },
  {
   "cell_type": "markdown",
   "metadata": {},
   "source": [
    "### Remove ambiguous sentences\n",
    "Some tweets mixing with other language,  they might be noises so it can be removed."
   ]
  },
  {
   "cell_type": "code",
   "execution_count": 40,
   "metadata": {},
   "outputs": [],
   "source": [
    "\n",
    "index_names = train_data[train_data['langs'] != '__label__en'].index\n",
    "\n",
    "# drop these given row\n",
    "# indexes from dataFrame\n",
    "train_data.drop(index_names, inplace = True)"
   ]
  },
  {
   "cell_type": "code",
   "execution_count": 41,
   "metadata": {},
   "outputs": [
    {
     "data": {
      "text/plain": [
       "array([], dtype=object)"
      ]
     },
     "execution_count": 41,
     "metadata": {},
     "output_type": "execute_result"
    }
   ],
   "source": [
    "pd.unique(train_data[~train_data[\"langs\"].str.contains('en')].langs)"
   ]
  },
  {
   "cell_type": "code",
   "execution_count": 42,
   "metadata": {},
   "outputs": [
    {
     "data": {
      "text/html": [
       "<div>\n",
       "<style scoped>\n",
       "    .dataframe tbody tr th:only-of-type {\n",
       "        vertical-align: middle;\n",
       "    }\n",
       "\n",
       "    .dataframe tbody tr th {\n",
       "        vertical-align: top;\n",
       "    }\n",
       "\n",
       "    .dataframe thead th {\n",
       "        text-align: right;\n",
       "    }\n",
       "</style>\n",
       "<table border=\"1\" class=\"dataframe\">\n",
       "  <thead>\n",
       "    <tr style=\"text-align: right;\">\n",
       "      <th></th>\n",
       "      <th>cleantext</th>\n",
       "      <th>emotion</th>\n",
       "      <th>langs</th>\n",
       "    </tr>\n",
       "  </thead>\n",
       "  <tbody>\n",
       "    <tr>\n",
       "      <th>583292</th>\n",
       "      <td>bikin rv kiss bts kuy lead rv</td>\n",
       "      <td>anticipation</td>\n",
       "      <td>__label__en</td>\n",
       "    </tr>\n",
       "    <tr>\n",
       "      <th>1428044</th>\n",
       "      <td>who is watching iufb v ohio state let us keep ...</td>\n",
       "      <td>trust</td>\n",
       "      <td>__label__en</td>\n",
       "    </tr>\n",
       "    <tr>\n",
       "      <th>484526</th>\n",
       "      <td>count your blessings not your problems</td>\n",
       "      <td>joy</td>\n",
       "      <td>__label__en</td>\n",
       "    </tr>\n",
       "    <tr>\n",
       "      <th>880761</th>\n",
       "      <td>more eyes</td>\n",
       "      <td>surprise</td>\n",
       "      <td>__label__en</td>\n",
       "    </tr>\n",
       "    <tr>\n",
       "      <th>135021</th>\n",
       "      <td>has neverloss a case just in case you were won...</td>\n",
       "      <td>anticipation</td>\n",
       "      <td>__label__en</td>\n",
       "    </tr>\n",
       "    <tr>\n",
       "      <th>...</th>\n",
       "      <td>...</td>\n",
       "      <td>...</td>\n",
       "      <td>...</td>\n",
       "    </tr>\n",
       "    <tr>\n",
       "      <th>299422</th>\n",
       "      <td>im all for it hinduism india knowledge creativity</td>\n",
       "      <td>joy</td>\n",
       "      <td>__label__en</td>\n",
       "    </tr>\n",
       "    <tr>\n",
       "      <th>1382896</th>\n",
       "      <td>i cannot even right now onallsides</td>\n",
       "      <td>disgust</td>\n",
       "      <td>__label__en</td>\n",
       "    </tr>\n",
       "    <tr>\n",
       "      <th>112243</th>\n",
       "      <td>are you marrying luke shaw stronghairgame</td>\n",
       "      <td>fear</td>\n",
       "      <td>__label__en</td>\n",
       "    </tr>\n",
       "    <tr>\n",
       "      <th>1141211</th>\n",
       "      <td>when people think less of you just remember th...</td>\n",
       "      <td>anticipation</td>\n",
       "      <td>__label__en</td>\n",
       "    </tr>\n",
       "    <tr>\n",
       "      <th>1040336</th>\n",
       "      <td>great price for a great fresh product no reaso...</td>\n",
       "      <td>trust</td>\n",
       "      <td>__label__en</td>\n",
       "    </tr>\n",
       "  </tbody>\n",
       "</table>\n",
       "<p>1318761 rows × 3 columns</p>\n",
       "</div>"
      ],
      "text/plain": [
       "                                                 cleantext       emotion  \\\n",
       "583292                       bikin rv kiss bts kuy lead rv  anticipation   \n",
       "1428044  who is watching iufb v ohio state let us keep ...         trust   \n",
       "484526             count your blessings not your problems            joy   \n",
       "880761                                           more eyes      surprise   \n",
       "135021   has neverloss a case just in case you were won...  anticipation   \n",
       "...                                                    ...           ...   \n",
       "299422   im all for it hinduism india knowledge creativity           joy   \n",
       "1382896                 i cannot even right now onallsides       disgust   \n",
       "112243           are you marrying luke shaw stronghairgame          fear   \n",
       "1141211  when people think less of you just remember th...  anticipation   \n",
       "1040336  great price for a great fresh product no reaso...         trust   \n",
       "\n",
       "               langs  \n",
       "583292   __label__en  \n",
       "1428044  __label__en  \n",
       "484526   __label__en  \n",
       "880761   __label__en  \n",
       "135021   __label__en  \n",
       "...              ...  \n",
       "299422   __label__en  \n",
       "1382896  __label__en  \n",
       "112243   __label__en  \n",
       "1141211  __label__en  \n",
       "1040336  __label__en  \n",
       "\n",
       "[1318761 rows x 3 columns]"
      ]
     },
     "execution_count": 42,
     "metadata": {},
     "output_type": "execute_result"
    }
   ],
   "source": [
    "train_data[[\"cleantext\",\"emotion\",\"langs\"]]"
   ]
  },
  {
   "cell_type": "code",
   "execution_count": 43,
   "metadata": {},
   "outputs": [],
   "source": [
    "from collections import Counter\n",
    "\n",
    "emotion_freq = Counter([emo[0] for emo in train_data[[\"emotion\"]].values.tolist()])"
   ]
  },
  {
   "cell_type": "markdown",
   "metadata": {},
   "source": [
    "### Exploratory Data Analysis\n",
    "1. Data distribution\n",
    "2. Investigate outliers with boxplot graph\n",
    "3. Remove those outliers"
   ]
  },
  {
   "cell_type": "code",
   "execution_count": 44,
   "metadata": {},
   "outputs": [
    {
     "data": {
      "image/png": "[encoded data removed]",
      "text/plain": [
       "<Figure size 1000x500 with 1 Axes>"
      ]
     },
     "metadata": {},
     "output_type": "display_data"
    }
   ],
   "source": [
    "import numpy as np\n",
    "import matplotlib.pyplot as plt\n",
    "\n",
    "df = pd.DataFrame.from_dict(emotion_freq, orient='index').reset_index()\n",
    "\n",
    "emotions = list(emotion_freq.keys())\n",
    "values = list(emotion_freq.values())\n",
    "\n",
    "fig = plt.figure(figsize = (10, 5))\n",
    "\n",
    "# creating the bar plot\n",
    "plt.bar(emotions, values, color ='maroon',\n",
    "        width = 0.4)\n",
    "\n",
    "plt.xlabel(\"Emotion\")\n",
    "plt.ylabel(\"Frequency\")\n",
    "plt.show()"
   ]
  },
  {
   "cell_type": "code",
   "execution_count": 45,
   "metadata": {},
   "outputs": [
    {
     "name": "stdout",
     "output_type": "stream",
     "text": [
      "Number of unique words before: 1554172\n",
      "Number of unique words after: 528907\n"
     ]
    }
   ],
   "source": [
    "result = Counter(\" \".join(train_data['text'].values.tolist()).split(\" \")).items()\n",
    "print(\"Number of unique words before:\", len(result))\n",
    "\n",
    "result = Counter(\" \".join(train_data['cleantext'].values.tolist()).split(\" \")).items()\n",
    "print(\"Number of unique words after:\", len(result))"
   ]
  },
  {
   "cell_type": "code",
   "execution_count": 46,
   "metadata": {},
   "outputs": [
    {
     "data": {
      "image/png": "[encoded data removed]",
      "text/plain": [
       "<Figure size 1000x1000 with 1 Axes>"
      ]
     },
     "metadata": {},
     "output_type": "display_data"
    },
    {
     "data": {
      "image/png": "[encoded data removed]",
      "text/plain": [
       "<Figure size 1000x1000 with 1 Axes>"
      ]
     },
     "metadata": {},
     "output_type": "display_data"
    }
   ],
   "source": [
    "from matplotlib import pyplot as plt\n",
    "\n",
    "plt.subplots(figsize=(10, 10))\n",
    "plt.boxplot(train_data.processed_text_length)\n",
    "plt.show()\n",
    "\n",
    "plt.subplots(figsize=(10, 10))\n",
    "plt.boxplot(train_data.processed_word_length)\n",
    "plt.show()"
   ]
  },
  {
   "cell_type": "code",
   "execution_count": 47,
   "metadata": {},
   "outputs": [],
   "source": [
    "train_data = train_data.drop(train_data[(train_data.processed_word_length > 70)].index)\n",
    "train_data = train_data.drop(\n",
    "    train_data[(train_data.processed_word_length < 3)\n",
    "               & (train_data.processed_text_length > 50)].index)"
   ]
  },
  {
   "cell_type": "code",
   "execution_count": 48,
   "metadata": {},
   "outputs": [],
   "source": [
    "train_data.to_pickle(\"cleaned_train_data.pkl\")"
   ]
  },
  {
   "cell_type": "markdown",
   "metadata": {},
   "source": [
    "# Model selection\n",
    "I tried to build models as follows:\n",
    "1. Naive bayes classifier\n",
    "2. SGD Classifier\n",
    "3. XGboost Classifier\n",
    "4. Fasttext Classifier\n",
    "5. Neural Network - RNN model\n",
    "6. Transformer BERT\n",
    "\n",
    "But all of these didn't give a decent prediction. Especially, transformer BERT, I struggle to build this model but it took a lot of time and memories.\n",
    "So I decided to should `LogisticRegression` to be the model that I will use as a base model.\n",
    "\n",
    "Interestingly, the model learns better without any preprocessing (Why this can even possible?!!).\n",
    "I suppose that, all the abbreviation that used in Twitter like slangs or emojis. They become \"a language\" in the twitter.\n",
    "When we try to preprocess them, it somehow denatualizes the language in Twitter. I think if we don't have this large dataset like 100k or 200k, preprocessing might matter.\n",
    "But this dataset consists of more than a million tweets, those noises become prominent \"pattern\" for model to learn.\n",
    "\n",
    "So let's see how different they are."
   ]
  },
  {
   "cell_type": "markdown",
   "metadata": {},
   "source": [
    "### Logistic regression - Uncleaned data"
   ]
  },
  {
   "cell_type": "code",
   "execution_count": 49,
   "metadata": {},
   "outputs": [],
   "source": [
    "import pandas as pd\n",
    "train_uncleaned_data = pd.read_pickle(\"uncleaned_train_data.pkl\")\n",
    "test_uncleaned_data = pd.read_pickle(\"uncleaned_test_data.pkl\")"
   ]
  },
  {
   "cell_type": "code",
   "execution_count": 50,
   "metadata": {},
   "outputs": [],
   "source": [
    "from sklearn.model_selection import train_test_split\n",
    "X = train_uncleaned_data.text\n",
    "y = train_uncleaned_data.emotion\n",
    "X_train, X_test, y_train, y_test = train_test_split(X, y, test_size=0.07, random_state = 42)"
   ]
  },
  {
   "cell_type": "code",
   "execution_count": 51,
   "metadata": {},
   "outputs": [
    {
     "name": "stderr",
     "output_type": "stream",
     "text": [
      "[Parallel(n_jobs=8)]: Using backend LokyBackend with 8 concurrent workers.\n"
     ]
    },
    {
     "name": "stdout",
     "output_type": "stream",
     "text": [
      "RUNNING THE L-BFGS-B CODE\n",
      "\n",
      "           * * *\n",
      "\n",
      "Machine precision = 2.220D-16\n",
      " N =      6030192     M =           10\n",
      "\n",
      "At X0         0 variables are exactly at the bounds\n",
      "\n",
      "At iterate    0    f=  2.81488D+06    |proj g|=  3.10793D+05\n"
     ]
    },
    {
     "name": "stderr",
     "output_type": "stream",
     "text": [
      " This problem is unconstrained.\n"
     ]
    },
    {
     "name": "stdout",
     "output_type": "stream",
     "text": [
      "\n",
      "At iterate   50    f=  1.83730D+06    |proj g|=  1.08318D+04\n",
      "\n",
      "At iterate  100    f=  1.73948D+06    |proj g|=  1.91415D+04\n",
      "\n",
      "           * * *\n",
      "\n",
      "Tit   = total number of iterations\n",
      "Tnf   = total number of function evaluations\n",
      "Tnint = total number of segments explored during Cauchy searches\n",
      "Skip  = number of BFGS updates skipped\n",
      "Nact  = number of active bounds at final generalized Cauchy point\n",
      "Projg = norm of the final projected gradient\n",
      "F     = final function value\n",
      "\n",
      "           * * *\n",
      "\n",
      "   N    Tit     Tnf  Tnint  Skip  Nact     Projg        F\n",
      "*****    100    108      1     0     0   1.914D+04   1.739D+06\n",
      "  F =   1739480.6152362328     \n",
      "\n",
      "STOP: TOTAL NO. of ITERATIONS REACHED LIMIT                 \n"
     ]
    },
    {
     "name": "stderr",
     "output_type": "stream",
     "text": [
      "/Users/kneskung/opt/miniconda3/envs/tensorflow/lib/python3.9/site-packages/sklearn/linear_model/_logistic.py:444: ConvergenceWarning: lbfgs failed to converge (status=1):\n",
      "STOP: TOTAL NO. of ITERATIONS REACHED LIMIT.\n",
      "\n",
      "Increase the number of iterations (max_iter) or scale the data as shown in:\n",
      "    https://scikit-learn.org/stable/modules/preprocessing.html\n",
      "Please also refer to the documentation for alternative solver options:\n",
      "    https://scikit-learn.org/stable/modules/linear_model.html#logistic-regression\n",
      "  n_iter_i = _check_optimize_result(\n",
      "[Parallel(n_jobs=8)]: Done   1 out of   1 | elapsed:  1.5min finished\n"
     ]
    }
   ],
   "source": [
    "from sklearn.linear_model import LogisticRegression\n",
    "from sklearn.pipeline import Pipeline\n",
    "from sklearn.feature_extraction.text import CountVectorizer\n",
    "from sklearn.feature_extraction.text import TfidfVectorizer\n",
    "from sklearn.feature_extraction.text import TfidfTransformer\n",
    "\n",
    "logreg = Pipeline([('vect', TfidfVectorizer()),\n",
    "                   ('clf', LogisticRegression(verbose=1,\n",
    "                    n_jobs=8, C=1, max_iter=100)),\n",
    "                   ])\n",
    "\n",
    "logreg.fit(X_train, y_train)\n",
    "y_pred = logreg.predict(X_test)"
   ]
  },
  {
   "cell_type": "code",
   "execution_count": 52,
   "metadata": {},
   "outputs": [
    {
     "name": "stdout",
     "output_type": "stream",
     "text": [
      "accuracy 0.5380213956227304\n",
      "              precision    recall  f1-score   support\n",
      "\n",
      "         joy       0.62      0.19      0.29      2749\n",
      "     sadness       0.62      0.50      0.56     17404\n",
      "       trust       0.51      0.34      0.41      9717\n",
      "anticipation       0.69      0.32      0.44      4449\n",
      "     disgust       0.51      0.84      0.63     36015\n",
      "    surprise       0.52      0.44      0.48     13533\n",
      "       anger       0.61      0.18      0.28      3472\n",
      "        fear       0.58      0.28      0.37     14551\n",
      "\n",
      "    accuracy                           0.54    101890\n",
      "   macro avg       0.58      0.39      0.43    101890\n",
      "weighted avg       0.56      0.54      0.51    101890\n",
      "\n"
     ]
    }
   ],
   "source": [
    "from sklearn.metrics import classification_report\n",
    "\n",
    "from sklearn.metrics import accuracy_score, confusion_matrix, roc_auc_score\n",
    "allemo = ['joy','sadness','trust','anticipation','disgust','surprise','anger','fear']\n",
    "\n",
    "print('accuracy %s' % accuracy_score(y_pred, y_test))\n",
    "print(classification_report(y_test, y_pred, target_names=allemo))"
   ]
  },
  {
   "cell_type": "markdown",
   "metadata": {},
   "source": [
    "### Logistic regression - Cleaned data"
   ]
  },
  {
   "cell_type": "code",
   "execution_count": 53,
   "metadata": {},
   "outputs": [],
   "source": [
    "import pandas as pd\n",
    "train_cleaned_data = pd.read_pickle(\"cleaned_train_data.pkl\")\n",
    "test_cleaned_data = pd.read_pickle(\"cleaned_test_data.pkl\")"
   ]
  },
  {
   "cell_type": "code",
   "execution_count": 54,
   "metadata": {},
   "outputs": [],
   "source": [
    "from sklearn.model_selection import train_test_split\n",
    "X = train_cleaned_data.text\n",
    "y = train_cleaned_data.emotion\n",
    "X_train, X_test, y_train, y_test = train_test_split(X, y, test_size=0.07, random_state = 42)"
   ]
  },
  {
   "cell_type": "code",
   "execution_count": 55,
   "metadata": {},
   "outputs": [
    {
     "name": "stderr",
     "output_type": "stream",
     "text": [
      "[Parallel(n_jobs=8)]: Using backend LokyBackend with 8 concurrent workers.\n"
     ]
    },
    {
     "name": "stdout",
     "output_type": "stream",
     "text": [
      "RUNNING THE L-BFGS-B CODE\n",
      "\n",
      "           * * *\n",
      "\n",
      "Machine precision = 2.220D-16\n",
      " N =      5687616     M =           10\n",
      "\n",
      "At X0         0 variables are exactly at the bounds\n",
      "\n",
      "At iterate    0    f=  2.54992D+06    |proj g|=  2.67570D+05\n"
     ]
    },
    {
     "name": "stderr",
     "output_type": "stream",
     "text": [
      " This problem is unconstrained.\n"
     ]
    },
    {
     "name": "stdout",
     "output_type": "stream",
     "text": [
      "\n",
      "At iterate   50    f=  1.73288D+06    |proj g|=  1.65133D+04\n",
      "\n",
      "At iterate  100    f=  1.63711D+06    |proj g|=  1.22487D+04\n",
      "\n",
      "           * * *\n",
      "\n",
      "Tit   = total number of iterations\n",
      "Tnf   = total number of function evaluations\n",
      "Tnint = total number of segments explored during Cauchy searches\n",
      "Skip  = number of BFGS updates skipped\n",
      "Nact  = number of active bounds at final generalized Cauchy point\n",
      "Projg = norm of the final projected gradient\n",
      "F     = final function value\n",
      "\n",
      "           * * *\n",
      "\n",
      "   N    Tit     Tnf  Tnint  Skip  Nact     Projg        F\n",
      "*****    100    108      1     0     0   1.225D+04   1.637D+06\n",
      "  F =   1637107.9306474465     \n",
      "\n",
      "STOP: TOTAL NO. of ITERATIONS REACHED LIMIT                 \n"
     ]
    },
    {
     "name": "stderr",
     "output_type": "stream",
     "text": [
      "/Users/kneskung/opt/miniconda3/envs/tensorflow/lib/python3.9/site-packages/sklearn/linear_model/_logistic.py:444: ConvergenceWarning: lbfgs failed to converge (status=1):\n",
      "STOP: TOTAL NO. of ITERATIONS REACHED LIMIT.\n",
      "\n",
      "Increase the number of iterations (max_iter) or scale the data as shown in:\n",
      "    https://scikit-learn.org/stable/modules/preprocessing.html\n",
      "Please also refer to the documentation for alternative solver options:\n",
      "    https://scikit-learn.org/stable/modules/linear_model.html#logistic-regression\n",
      "  n_iter_i = _check_optimize_result(\n",
      "[Parallel(n_jobs=8)]: Done   1 out of   1 | elapsed:  1.3min finished\n"
     ]
    }
   ],
   "source": [
    "from sklearn.linear_model import LogisticRegression\n",
    "from sklearn.pipeline import Pipeline\n",
    "from sklearn.feature_extraction.text import CountVectorizer\n",
    "from sklearn.feature_extraction.text import TfidfVectorizer\n",
    "from sklearn.feature_extraction.text import TfidfTransformer\n",
    "\n",
    "logreg = Pipeline([('vect', TfidfVectorizer()),\n",
    "                   ('clf', LogisticRegression(verbose=1,\n",
    "                    n_jobs=8, C=1, max_iter=100)),\n",
    "                   ])\n",
    "\n",
    "logreg.fit(X_train, y_train)\n",
    "y_pred = logreg.predict(X_test)"
   ]
  },
  {
   "cell_type": "code",
   "execution_count": 56,
   "metadata": {},
   "outputs": [
    {
     "name": "stdout",
     "output_type": "stream",
     "text": [
      "accuracy 0.5170911927539843\n",
      "              precision    recall  f1-score   support\n",
      "\n",
      "         joy       0.57      0.16      0.25      2462\n",
      "     sadness       0.57      0.48      0.52     15297\n",
      "       trust       0.48      0.36      0.41      9387\n",
      "anticipation       0.71      0.34      0.46      4285\n",
      "     disgust       0.50      0.80      0.62     31798\n",
      "    surprise       0.51      0.43      0.46     12712\n",
      "       anger       0.47      0.15      0.23      3102\n",
      "        fear       0.52      0.28      0.36     13256\n",
      "\n",
      "    accuracy                           0.52     92299\n",
      "   macro avg       0.54      0.38      0.42     92299\n",
      "weighted avg       0.52      0.52      0.49     92299\n",
      "\n"
     ]
    }
   ],
   "source": [
    "print('accuracy %s' % accuracy_score(y_pred, y_test))\n",
    "print(classification_report(y_test, y_pred, target_names=allemo))\n"
   ]
  },
  {
   "cell_type": "markdown",
   "metadata": {},
   "source": [
    "From above experiment, it is showing that the model learns better with uncleaned data.\n",
    "- Uncleaned data accuracy: `0.5380213956227304`\n",
    "- Cleaned data accuracy: 0.5170911927539843\n",
    "\n",
    "\n",
    "So I tuned the model by setting max iteration to 2000."
   ]
  },
  {
   "cell_type": "code",
   "execution_count": 61,
   "metadata": {},
   "outputs": [],
   "source": [
    "X = train_uncleaned_data.text\n",
    "y = train_uncleaned_data.emotion\n",
    "\n",
    "X_train, X_test, y_train, y_test = train_test_split(\n",
    "    X, y, test_size=0.1, random_state=42)\n"
   ]
  },
  {
   "cell_type": "code",
   "execution_count": 62,
   "metadata": {},
   "outputs": [
    {
     "name": "stderr",
     "output_type": "stream",
     "text": [
      "[Parallel(n_jobs=8)]: Using backend LokyBackend with 8 concurrent workers.\n"
     ]
    },
    {
     "name": "stdout",
     "output_type": "stream",
     "text": [
      "RUNNING THE L-BFGS-B CODE\n",
      "\n",
      "           * * *\n",
      "\n",
      "Machine precision = 2.220D-16\n",
      " N =      5889216     M =           10\n",
      "\n",
      "At X0         0 variables are exactly at the bounds\n",
      "\n",
      "At iterate    0    f=  2.72408D+06    |proj g|=  3.00827D+05\n"
     ]
    },
    {
     "name": "stderr",
     "output_type": "stream",
     "text": [
      " This problem is unconstrained.\n"
     ]
    },
    {
     "name": "stdout",
     "output_type": "stream",
     "text": [
      "\n",
      "At iterate   50    f=  1.77692D+06    |proj g|=  1.79582D+04\n",
      "\n",
      "At iterate  100    f=  1.67173D+06    |proj g|=  6.91302D+03\n",
      "\n",
      "At iterate  150    f=  1.62358D+06    |proj g|=  7.44461D+03\n",
      "\n",
      "At iterate  200    f=  1.58576D+06    |proj g|=  4.34179D+03\n",
      "\n",
      "At iterate  250    f=  1.55539D+06    |proj g|=  3.26001D+03\n",
      "\n",
      "At iterate  300    f=  1.53533D+06    |proj g|=  1.84726D+03\n",
      "\n",
      "At iterate  350    f=  1.52592D+06    |proj g|=  1.40671D+03\n",
      "\n",
      "At iterate  400    f=  1.51771D+06    |proj g|=  1.64808D+03\n",
      "\n",
      "At iterate  450    f=  1.51354D+06    |proj g|=  1.09366D+03\n",
      "\n",
      "At iterate  500    f=  1.51089D+06    |proj g|=  6.55014D+02\n",
      "\n",
      "At iterate  550    f=  1.50856D+06    |proj g|=  3.39657D+02\n",
      "\n",
      "At iterate  600    f=  1.50763D+06    |proj g|=  7.52620D+02\n",
      "\n",
      "At iterate  650    f=  1.50701D+06    |proj g|=  1.20220D+03\n",
      "\n",
      "At iterate  700    f=  1.50667D+06    |proj g|=  1.24711D+02\n",
      "\n",
      "At iterate  750    f=  1.50650D+06    |proj g|=  2.50284D+02\n",
      "\n",
      "At iterate  800    f=  1.50625D+06    |proj g|=  1.92369D+02\n",
      "\n",
      "At iterate  850    f=  1.50611D+06    |proj g|=  1.31479D+02\n",
      "\n",
      "At iterate  900    f=  1.50605D+06    |proj g|=  1.42435D+02\n",
      "\n",
      "At iterate  950    f=  1.50602D+06    |proj g|=  4.29806D+01\n",
      "\n",
      "At iterate 1000    f=  1.50601D+06    |proj g|=  1.56356D+02\n",
      "\n",
      "At iterate 1050    f=  1.50600D+06    |proj g|=  4.39785D+01\n",
      "\n",
      "At iterate 1100    f=  1.50600D+06    |proj g|=  9.67062D+01\n",
      "\n",
      "At iterate 1150    f=  1.50599D+06    |proj g|=  5.61574D+01\n",
      "\n",
      "At iterate 1200    f=  1.50598D+06    |proj g|=  4.64331D+01\n",
      "\n",
      "At iterate 1250    f=  1.50598D+06    |proj g|=  1.35652D+02\n",
      "\n",
      "           * * *\n",
      "\n",
      "Tit   = total number of iterations\n",
      "Tnf   = total number of function evaluations\n",
      "Tnint = total number of segments explored during Cauchy searches\n",
      "Skip  = number of BFGS updates skipped\n",
      "Nact  = number of active bounds at final generalized Cauchy point\n",
      "Projg = norm of the final projected gradient\n",
      "F     = final function value\n",
      "\n",
      "           * * *\n",
      "\n",
      "   N    Tit     Tnf  Tnint  Skip  Nact     Projg        F\n",
      "*****   1270   1345      1     0     0   3.746D+01   1.506D+06\n",
      "  F =   1505978.3080143111     \n",
      "\n",
      "CONVERGENCE: REL_REDUCTION_OF_F_<=_FACTR*EPSMCH             \n"
     ]
    },
    {
     "name": "stderr",
     "output_type": "stream",
     "text": [
      "[Parallel(n_jobs=8)]: Done   1 out of   1 | elapsed: 18.1min finished\n"
     ]
    }
   ],
   "source": [
    "logreg = Pipeline([('vect', TfidfVectorizer()),\n",
    "                   ('clf', LogisticRegression(verbose=1,\n",
    "                    n_jobs=8, C=1, max_iter=2000)),\n",
    "                   ])\n",
    "\n",
    "logreg.fit(X_train, y_train)\n",
    "y_pred = logreg.predict(X_test)\n"
   ]
  },
  {
   "cell_type": "code",
   "execution_count": 64,
   "metadata": {},
   "outputs": [
    {
     "name": "stdout",
     "output_type": "stream",
     "text": [
      "accuracy 0.5683134442177291\n",
      "              precision    recall  f1-score   support\n",
      "\n",
      "         joy       0.61      0.24      0.34      3918\n",
      "     sadness       0.63      0.57      0.60     25014\n",
      "       trust       0.51      0.42      0.46     13885\n",
      "anticipation       0.69      0.38      0.49      6357\n",
      "     disgust       0.56      0.81      0.66     51439\n",
      "    surprise       0.53      0.49      0.51     19437\n",
      "       anger       0.64      0.23      0.33      4947\n",
      "        fear       0.58      0.35      0.43     20560\n",
      "\n",
      "    accuracy                           0.57    145557\n",
      "   macro avg       0.59      0.43      0.48    145557\n",
      "weighted avg       0.57      0.57      0.55    145557\n",
      "\n"
     ]
    }
   ],
   "source": [
    "\n",
    "allemo = ['joy', 'sadness', 'trust', 'anticipation',\n",
    "          'disgust', 'surprise', 'anger', 'fear']\n",
    "\n",
    "print('accuracy %s' % accuracy_score(y_pred, y_test))\n",
    "print(classification_report(y_test, y_pred, target_names=allemo))\n",
    "\n",
    "prediction = logreg.predict(test_data['text'])\n",
    "test_data['emotion'] = prediction\n",
    "test_data[['id', 'emotion']].to_csv(\n",
    "    'LR.csv', sep=',', encoding='utf-8', index=False)\n"
   ]
  },
  {
   "cell_type": "code",
   "execution_count": null,
   "metadata": {},
   "outputs": [],
   "source": []
  }
 ],
 "metadata": {
  "kernelspec": {
   "display_name": "Python 3.9.13 ('tensorflow')",
   "language": "python",
   "name": "python3"
  },
  "language_info": {
   "codemirror_mode": {
    "name": "ipython",
    "version": 3
   },
   "file_extension": ".py",
   "mimetype": "text/x-python",
   "name": "python",
   "nbconvert_exporter": "python",
   "pygments_lexer": "ipython3",
   "version": "3.9.13"
  },
  "orig_nbformat": 4,
  "vscode": {
   "interpreter": {
    "hash": "51a7bfb0216ede7eddb7942c46ce6031f22420a85134ae4cc5d6e846832ce229"
   }
  }
 },
 "nbformat": 4,
 "nbformat_minor": 2
}
